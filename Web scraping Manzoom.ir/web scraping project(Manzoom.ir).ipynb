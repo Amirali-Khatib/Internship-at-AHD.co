{
 "cells": [
  {
   "cell_type": "code",
   "execution_count": 20,
   "id": "9816ab3c",
   "metadata": {},
   "outputs": [],
   "source": [
    "from bs4 import BeautifulSoup\n",
    "import requests\n",
    "from selenium import webdriver\n",
    "from selenium.webdriver.chrome.options import Options\n",
    "from webdriver_manager.chrome import ChromeDriverManager\n",
    "from selenium.webdriver.chrome.service import Service\n",
    "from selenium.webdriver.common.by import By\n",
    "import pandas as pd\n",
    "import numpy as np\n",
    "from urllib.request import urlopen\n",
    "from lxml import etree\n",
    "import re\n",
    "import itertools"
   ]
  },
  {
   "cell_type": "code",
   "execution_count": 33,
   "id": "5debb042",
   "metadata": {},
   "outputs": [
    {
     "name": "stdout",
     "output_type": "stream",
     "text": [
      "Collecting webdriver_manager\n",
      "  Downloading webdriver_manager-3.8.3-py2.py3-none-any.whl (26 kB)\n",
      "Collecting python-dotenv\n",
      "  Downloading python_dotenv-0.20.0-py3-none-any.whl (17 kB)\n",
      "Requirement already satisfied: tqdm in c:\\users\\acer\\anaconda3\\lib\\site-packages (from webdriver_manager) (4.59.0)\n",
      "Requirement already satisfied: requests in c:\\users\\acer\\anaconda3\\lib\\site-packages (from webdriver_manager) (2.25.1)\n",
      "Requirement already satisfied: idna<3,>=2.5 in c:\\users\\acer\\anaconda3\\lib\\site-packages (from requests->webdriver_manager) (2.10)\n",
      "Requirement already satisfied: certifi>=2017.4.17 in c:\\users\\acer\\anaconda3\\lib\\site-packages (from requests->webdriver_manager) (2022.6.15)\n",
      "Requirement already satisfied: chardet<5,>=3.0.2 in c:\\users\\acer\\anaconda3\\lib\\site-packages (from requests->webdriver_manager) (4.0.0)\n",
      "Requirement already satisfied: urllib3<1.27,>=1.21.1 in c:\\users\\acer\\anaconda3\\lib\\site-packages (from requests->webdriver_manager) (1.26.4)\n",
      "Installing collected packages: python-dotenv, webdriver-manager\n",
      "Successfully installed python-dotenv-0.20.0 webdriver-manager-3.8.3\n",
      "Note: you may need to restart the kernel to use updated packages.\n"
     ]
    }
   ],
   "source": [
    "pip install webdriver_manager"
   ]
  },
  {
   "cell_type": "markdown",
   "id": "d618efb0",
   "metadata": {},
   "source": [
    "## Test"
   ]
  },
  {
   "cell_type": "code",
   "execution_count": 36,
   "id": "05556c9d",
   "metadata": {},
   "outputs": [],
   "source": [
    "html = urlopen('https://www.manzoom.ir/iranian-artist/biography/')\n",
    "soup = BeautifulSoup(html.read(), 'html.parser')\n",
    "actors = soup.find_all('div', class_ = 'list-item')\n",
    "artist_url = [actor.find('a', href=True)['href'] for actor in actors]"
   ]
  },
  {
   "cell_type": "code",
   "execution_count": 37,
   "id": "e4af08d9",
   "metadata": {},
   "outputs": [
    {
     "data": {
      "text/plain": [
       "'https://www.manzoom.ir/name/nm2179350/%D8%A8%D9%87%D8%B1%D8%A7%D9%85-%D8%B1%D8%A7%D8%AF%D8%A7%D9%86'"
      ]
     },
     "execution_count": 37,
     "metadata": {},
     "output_type": "execute_result"
    }
   ],
   "source": [
    "artist_url[0]"
   ]
  },
  {
   "cell_type": "code",
   "execution_count": 38,
   "id": "dd6de62a",
   "metadata": {},
   "outputs": [],
   "source": [
    "url = urlopen('https://www.manzoom.ir'+'/iranian-artist/biography/?p=' + str(2))\n",
    "soup = BeautifulSoup(url.read(), 'html.parser')\n",
    "actors = soup.find_all('div', class_ = 'list-item')\n",
    "artist_url = [actor.find('a', href=True)['href'] for actor in actors]"
   ]
  },
  {
   "cell_type": "code",
   "execution_count": 39,
   "id": "35a93fe2",
   "metadata": {},
   "outputs": [
    {
     "data": {
      "text/plain": [
       "'https://www.manzoom.ir/name/nm0791368/%D8%B1%D8%B6%D8%A7-%DA%A9%DB%8C%D8%A7%D9%86%DB%8C%D8%A7%D9%86'"
      ]
     },
     "execution_count": 39,
     "metadata": {},
     "output_type": "execute_result"
    }
   ],
   "source": [
    "artist_url[0]"
   ]
  },
  {
   "cell_type": "code",
   "execution_count": 20,
   "id": "e45fba9a",
   "metadata": {},
   "outputs": [
    {
     "data": {
      "text/plain": [
       "'/iranian-artist/biography/?p=2'"
      ]
     },
     "execution_count": 20,
     "metadata": {},
     "output_type": "execute_result"
    }
   ],
   "source": [
    "next_page = soup.find('div', class_ = 'maznoom-g').find('a',href = True)['href']\n",
    "next_page"
   ]
  },
  {
   "cell_type": "code",
   "execution_count": 72,
   "id": "ccb4a931",
   "metadata": {},
   "outputs": [],
   "source": [
    "url = urlopen('https://www.manzoom.ir'+'/iranian-artist/biography/?p=' + str(13))\n",
    "soup = BeautifulSoup(url.read(), 'html.parser')\n",
    "actors = soup.find_all('div', class_ = 'list-item')\n",
    "artist_url = [actor.find('a', href=True)['href'] for actor in actors]"
   ]
  },
  {
   "cell_type": "code",
   "execution_count": 73,
   "id": "f0f53d1d",
   "metadata": {},
   "outputs": [
    {
     "data": {
      "text/plain": [
       "5"
      ]
     },
     "execution_count": 73,
     "metadata": {},
     "output_type": "execute_result"
    }
   ],
   "source": [
    "len(actors)"
   ]
  },
  {
   "cell_type": "markdown",
   "id": "1d224f0b",
   "metadata": {},
   "source": [
    "# Main project"
   ]
  },
  {
   "cell_type": "markdown",
   "id": "baec9dcf",
   "metadata": {},
   "source": [
    "### find all actors' URLs"
   ]
  },
  {
   "cell_type": "code",
   "execution_count": 21,
   "id": "b71354a7",
   "metadata": {},
   "outputs": [],
   "source": [
    "def append_func(target_list, current_list):\n",
    "    for i in range(len(current_list)):\n",
    "        target_list.append(current_list[i])\n",
    "    return None"
   ]
  },
  {
   "cell_type": "code",
   "execution_count": 22,
   "id": "d3497762",
   "metadata": {},
   "outputs": [
    {
     "name": "stdout",
     "output_type": "stream",
     "text": [
      "page 1\n",
      "page 2\n",
      "page 3\n",
      "page 4\n",
      "page 5\n",
      "page 6\n",
      "page 7\n",
      "page 8\n",
      "page 9\n",
      "page 10\n",
      "page 11\n",
      "page 12\n",
      "page 13\n"
     ]
    }
   ],
   "source": [
    "# Intialization\n",
    "actor_url_list = []\n",
    "html = urlopen('https://www.manzoom.ir/iranian-artist/biography/')\n",
    "soup = BeautifulSoup(html.read(), 'html.parser')\n",
    "current_page_actors = soup.find_all('div', class_ = 'list-item')\n",
    "current_actors_url = [actor.find('a', href=True)['href'] for actor in current_page_actors]\n",
    "append_func(actor_url_list, current_actors_url)\n",
    "print('page 1')\n",
    "# main loop\n",
    "i = 2\n",
    "while True:\n",
    "    next_page = urlopen('https://www.manzoom.ir'+'/iranian-artist/biography/?p=' + str(i))\n",
    "    soup = BeautifulSoup(next_page.read(), 'html.parser')\n",
    "    current_page_actors = soup.find_all('div', class_ = 'list-item')\n",
    "    current_actors_url = [actor.find('a', href=True)['href'] for actor in current_page_actors]\n",
    "    if current_actors_url[0] == actor_url_list[0]:\n",
    "        break\n",
    "    else:\n",
    "        append_func(actor_url_list, current_actors_url)\n",
    "        print(f'page {i}')\n",
    "        i+=1    "
   ]
  },
  {
   "cell_type": "code",
   "execution_count": 6,
   "id": "85a6247e",
   "metadata": {},
   "outputs": [
    {
     "data": {
      "text/plain": [
       "245"
      ]
     },
     "execution_count": 6,
     "metadata": {},
     "output_type": "execute_result"
    }
   ],
   "source": [
    "len(actor_url_list)"
   ]
  },
  {
   "cell_type": "code",
   "execution_count": 85,
   "id": "21d4f975",
   "metadata": {},
   "outputs": [
    {
     "data": {
      "text/plain": [
       "'https://www.manzoom.ir/name/nm2179350/%D8%A8%D9%87%D8%B1%D8%A7%D9%85-%D8%B1%D8%A7%D8%AF%D8%A7%D9%86'"
      ]
     },
     "execution_count": 85,
     "metadata": {},
     "output_type": "execute_result"
    }
   ],
   "source": [
    "actor_url_list[0]"
   ]
  },
  {
   "cell_type": "code",
   "execution_count": null,
   "id": "fcc60581",
   "metadata": {},
   "outputs": [],
   "source": [
    "for i in range(len(actor_url_list)):\n",
    "    actor_url = actor_url_list[i]\n",
    "    "
   ]
  },
  {
   "cell_type": "markdown",
   "id": "200059ce",
   "metadata": {},
   "source": [
    "test"
   ]
  },
  {
   "cell_type": "code",
   "execution_count": 195,
   "id": "1025fc85",
   "metadata": {},
   "outputs": [
    {
     "data": {
      "text/plain": [
       "['وی علاوه بر شرکت فیلمهای ویدئویی و انیمیشن خود در ایران،در کشور کانادا هم یک شرکت ویدئویی تاسیس کردهاست.',\n",
       " 'وی برای رونمایی از آلبوم «روی دیگر» عینکی به چشم زده بود که شباهت زیادی به عینک شیشه گرد معروف جان لنون داشت. لنون از اسطورههای موسیقی راک و از فعالان صلح بود که در چهل سالگی به دست یکی از هوادارانش به قتل رسید. از قرار معلوم او تصمیم گرفته ادای دینی به این خواننده بکند. اما وی تنها طرفدار عینک لنون نیست. یکی از عینکهای لنون که توسط این خواننده به همسر ژاپنیاش هدیه داده شده بود چند سال قبل در یک حراج اینترنتی به قیمت بالایی فروخته شد. در کوبا هم برای مراقبت از عینک مجسمهی لنون نگهبان استخدام کردهاند چون چند بار تابه حال این عینک سرقت رفتهاست.',\n",
       " 'وی در طول تحصیل 8 بار دبیرستان خود را عوض کرده و در آخر در رشته انسانی موفق به اخذ دیپلم شدهاست.',\n",
       " 'حیوان خانگی وی یک سگ است.',\n",
       " 'وی در صفحهی توئیتر خود قانونی شدن ازدواج همجنسگرایان در کنگرهی آمریکا را به اندازهی لغو بردهداری یک رویداد تاریخی قلمداد کرد اما پس از چند روز، طی فشارهای امنیتی موجود، احضاریهها و چاپ مداوم مطالبی بر علیه وی در روزنامه کیهان، مجبور به نوشتن نامهای خطاب به مدیرمسئول روزنامه کیهان شد و توئیت خود را نیز حذف و نفی کرد. پس از این بسیاری عامل نامه فرستادن وی خطاب به روزنامه کیهان را تشدید فشارهای امنیتی دانستند.',\n",
       " 'در سال (1389) از طرف سازمان ملل متحد به عنوان اولین سفیر ایرانی برنامهی جهانی غذا در مبارزه علیه گرسنگی انتخاب شد.',\n",
       " 'زمانی که وی در کنکور سال 77 در رشته مورد علاقهاش پذیرش نشد، تصمیم رفتن به خدمت سربازی را گرفت. ولی بعد از 5 ماه نام خود را در لیست قبول شدگان رشتهی \"مدیریت بازرگانی\" دید و به همین علت سربازی را نیمهتمام رها کرد.',\n",
       " 'در سن 15 سالگی به مدت یکسال به آمریکا رفت ولی در آنجا نماند و تصمیم بازگشت به کشور را گرفت.']"
      ]
     },
     "execution_count": 195,
     "metadata": {},
     "output_type": "execute_result"
    }
   ],
   "source": [
    "n = urlopen('https://www.manzoom.ir/trivia/nm2179350/%D8%AD%D9%88%D8%A7%D8%B4%DB%8C-%D8%A8%D9%87%D8%B1%D8%A7%D9%85-%D8%B1%D8%A7%D8%AF%D8%A7%D9%86')\n",
    "n_soup = BeautifulSoup(n.read(), 'html.parser')\n",
    "#current_page_actors = soup.find('h1', class_ = 'red info-top-header maznoom-a maznoom-b')\n",
    "m = n_soup.find('div', class_ = 'row').find_all('div',class_ = 'bullet-item has-border')\n",
    "#.find('div', class_ = 'main_box').text\n",
    "m = [t.text.replace('\\u200c','').replace('\\u200e','') for t in m]\n",
    "m\n",
    "#.find('div', class_ = 'bullet-item has-border')\n",
    "#.find('div', class_ = 'text').text\n"
   ]
  },
  {
   "cell_type": "code",
   "execution_count": 138,
   "id": "eea5a37d",
   "metadata": {},
   "outputs": [],
   "source": [
    "## test\n",
    "html = urlopen('https://www.manzoom.ir/name/nm2179350/%D8%A8%D9%87%D8%B1%D8%A7%D9%85-%D8%B1%D8%A7%D8%AF%D8%A7%D9%86')\n",
    "soup = BeautifulSoup(html.read(), 'html.parser')\n",
    "#current_page_actors = soup.find('h1', class_ = 'red info-top-header maznoom-a maznoom-b')\n",
    "d = soup.find('div', class_ = 'awards-item maznoom-b').text"
   ]
  },
  {
   "cell_type": "code",
   "execution_count": 139,
   "id": "3c4a7acb",
   "metadata": {},
   "outputs": [
    {
     "data": {
      "text/plain": [
       "'برنده 2 و نامزد 2 سیمرغ بلورین از جشنواره فیلم فجر'"
      ]
     },
     "execution_count": 139,
     "metadata": {},
     "output_type": "execute_result"
    }
   ],
   "source": [
    "d"
   ]
  },
  {
   "cell_type": "code",
   "execution_count": 145,
   "id": "5721382c",
   "metadata": {},
   "outputs": [
    {
     "data": {
      "text/plain": [
       "['ابلق',\n",
       " 'جیران',\n",
       " 'ایده اصلی',\n",
       " 'سونامی',\n",
       " 'رقص روی شیشه',\n",
       " 'آشفته گی',\n",
       " 'چهارراه استانبول',\n",
       " 'زرد',\n",
       " 'پولاریس ستاره قطبی',\n",
       " 'بارکد',\n",
       " 'من ناصر حجازی هستم',\n",
       " 'حکایت عاشقی',\n",
       " 'آتش بس 2',\n",
       " 'عصر یخبندان',\n",
       " 'نقش نگار',\n",
       " 'تراژدی',\n",
       " 'پل چوبی',\n",
       " 'یکی از ما دو نفر',\n",
       " 'راه آبی ابریشم',\n",
       " 'آدمکش',\n",
       " 'زادبوم',\n",
       " 'تهران 1500',\n",
       " 'تردید',\n",
       " 'کارناوال مرگ',\n",
       " 'بی پولی',\n",
       " 'کنعان',\n",
       " 'خون بازی',\n",
       " 'چهار انگشتی',\n",
       " 'سنتوری',\n",
       " 'تقاطع',\n",
       " 'حکم',\n",
       " 'گیلانه',\n",
       " 'ازدواج صورتی',\n",
       " 'رستگاری در هشت و بیست دقیقه',\n",
       " 'سربازهای جمعه',\n",
       " 'روایت سه گانه (اپیزود سوم، ننه گیلانه)',\n",
       " 'شمعی در باد',\n",
       " 'رز زرد',\n",
       " 'گاوخونی',\n",
       " 'عطش',\n",
       " 'ساقی',\n",
       " 'آواز قو',\n",
       " 'آبی',\n",
       " 'شور عشق',\n",
       " 'علف زار',\n",
       " 'گربه سیاه']"
      ]
     },
     "execution_count": 145,
     "metadata": {},
     "output_type": "execute_result"
    }
   ],
   "source": [
    "html = urlopen('https://www.manzoom.ir/name/nm2179350/%D8%A8%D9%87%D8%B1%D8%A7%D9%85-%D8%B1%D8%A7%D8%AF%D8%A7%D9%86')\n",
    "soup = BeautifulSoup(html.read(), 'html.parser')\n",
    "dom = etree.HTML(str(soup))\n",
    "film = dom.xpath('//*[@id=\"person-roles-part\"]/div/div//div//a') \n",
    "film = [film[i].text.replace('\\u200c', ' ') for i in range(len(film))]\n",
    "film"
   ]
  },
  {
   "cell_type": "code",
   "execution_count": 23,
   "id": "264f8dd5",
   "metadata": {},
   "outputs": [
    {
     "name": "stdout",
     "output_type": "stream",
     "text": [
      "<div class=\"main-box padded m-t-1 dual-row underline-links\" id=\"page-other-info\"><div class=\"head\"><div class=\"right maznoom-c\">مشخصات بهرام رادان</div></div><div class=\"slide-down active m-t-2\"><div class=\"title maznoom-c\">راه‌های ارتباطی</div><div class=\"more\">پنهان شدن</div><div class=\"icon icon-angle-arrow-down icon-rotate-180\"></div></div><div><div class=\"bullet-item has-border\"><div class=\"text\">آدرس اینستاگرام (بهرام رادان): <a href=\"https://www.instagram.com/bahramradan/\" rel=\"nofollow\" target=\"_blank\">bahramradan@</a></div></div></div><div class=\"slide-down active m-t-2\"><div class=\"title maznoom-c\">اطلاعات زندگی</div><div class=\"more\">پنهان شدن</div><div class=\"icon icon-angle-arrow-down icon-rotate-180\"></div></div><div><div class=\"bullet-item has-border\"><div class=\"text\">ملیت: ایران</div></div><div class=\"bullet-item has-border\"><div class=\"text\">دین: اسلام</div></div><div class=\"bullet-item has-border\"><div class=\"text\">مذهب: تشیع</div></div></div><div class=\"slide-down active m-t-2\"><div class=\"title maznoom-c\">تحصیلات</div><div class=\"more\">پنهان شدن</div><div class=\"icon icon-angle-arrow-down icon-rotate-180\"></div></div><div><div class=\"bullet-item has-border\"><div class=\"text\">مدرک تحصیلی: مدیریت بازرگانی از دانشگاه آزاد اسلامی</div></div></div><div class=\"slide-down active m-t-2\"><div class=\"title maznoom-c\">مهارت‌ها</div><div class=\"more\">پنهان شدن</div><div class=\"icon icon-angle-arrow-down icon-rotate-180\"></div></div><div><div class=\"bullet-item has-border\"><div class=\"text\">مهارت‌های فرعی: رانندگی</div></div></div></div>\n"
     ]
    },
    {
     "data": {
      "text/plain": [
       "['مشخصات بهرام رادانراه های ارتباطی',\n",
       " 'آدرس اینستاگرام (بهرام رادان)',\n",
       " ' bahramradan@اطلاعات زندگی',\n",
       " 'ملیت',\n",
       " ' ایراندین',\n",
       " ' اسلاممذهب',\n",
       " ' تشیعتحصیلات',\n",
       " 'مدرک تحصیلی',\n",
       " ' مدیریت بازرگانی از دانشگاه آزاد اسلامیمهارت ها',\n",
       " 'مهارت های فرعی',\n",
       " ' رانندگی']"
      ]
     },
     "execution_count": 23,
     "metadata": {},
     "output_type": "execute_result"
    }
   ],
   "source": [
    "inf = soup.find('div', class_ = 'main-box padded m-t-1 dual-row underline-links')\n",
    "print(inf)\n",
    "inf = inf.text.replace('\\u200c',' ')\n",
    "re.split('پنهان شدن|:', inf)\n",
    "#infs = [i.text for i in inf]"
   ]
  },
  {
   "cell_type": "code",
   "execution_count": 7,
   "id": "f25f142d",
   "metadata": {},
   "outputs": [],
   "source": [
    "def oneDArray(x):\n",
    "    return list(itertools.chain(*x))"
   ]
  },
  {
   "cell_type": "code",
   "execution_count": 21,
   "id": "03dbc4ee",
   "metadata": {},
   "outputs": [],
   "source": [
    "html = urlopen('https://www.manzoom.ir/name/nm3951027/%D8%B3%DB%8C%D8%AF%E2%80%8C%D8%B4%D9%87%D8%A7%D8%A8-%D8%AD%D8%B3%DB%8C%D9%86%DB%8C')\n",
    "soup = BeautifulSoup(html.read(), 'html.parser')\n",
    "a = soup.find('div',{'class':'main-box padded m-t-1 dual-row underline-links'})\n",
    "#a = a.find_all('div')\n",
    "a = a.find_all('div', {'class': ['bullet-item has-border','title maznoom-c']})\n",
    "info_list = [t.text.replace('\\u200c',' ').split(':') for t in a]\n",
    "#slide-down active m-t-2"
   ]
  },
  {
   "cell_type": "code",
   "execution_count": 22,
   "id": "92a8d31e",
   "metadata": {},
   "outputs": [
    {
     "data": {
      "text/plain": [
       "['راه های ارتباطی',\n",
       " 'آدرس اینستاگرام (سید شهاب حسینی)',\n",
       " ' shahaab_hosseini@',\n",
       " 'اطلاعات زندگی',\n",
       " 'جنسیت',\n",
       " ' مرد',\n",
       " 'ملیت',\n",
       " ' ایران',\n",
       " 'دین',\n",
       " ' اسلام',\n",
       " 'مذهب',\n",
       " ' تشیع',\n",
       " 'تحصیلات',\n",
       " 'مدرک تحصیلی',\n",
       " ' دیپلم علوم انسانی',\n",
       " 'اطلاعات خانوادگی',\n",
       " 'تعداد خواهر',\n",
       " ' 1',\n",
       " 'وضعیت تاهل',\n",
       " ' متاهل',\n",
       " 'تعداد پسران',\n",
       " ' 2',\n",
       " 'مهارت ها',\n",
       " 'مهارت های فرعی',\n",
       " ' رانندگی']"
      ]
     },
     "execution_count": 22,
     "metadata": {},
     "output_type": "execute_result"
    }
   ],
   "source": [
    "#info_list\n",
    "p = oneDArray(info_list)\n",
    "p"
   ]
  },
  {
   "cell_type": "code",
   "execution_count": 27,
   "id": "037d961a",
   "metadata": {},
   "outputs": [
    {
     "data": {
      "text/plain": [
       "{'social_media': {'instagram': '@shahaab_hosseini'},\n",
       " 'life_info': {'sex': ' مرد',\n",
       "  'nationality': ' ایران',\n",
       "  'city of birth': None,\n",
       "  'religion': ' اسلام',\n",
       "  'religion_branch': ' تشیع'},\n",
       " 'Education': {'degree': ' دیپلم علوم انسانی', 'major': None},\n",
       " 'skills': ' رانندگی'}"
      ]
     },
     "execution_count": 27,
     "metadata": {},
     "output_type": "execute_result"
    }
   ],
   "source": [
    "info_extractor(p)"
   ]
  },
  {
   "cell_type": "code",
   "execution_count": 6,
   "id": "c710305b",
   "metadata": {},
   "outputs": [
    {
     "data": {
      "text/plain": [
       "[<div class=\"replies no-margin-force\"><div class=\"comment-item table full-width maznoom-d\" data-id=\"4771162\" id=\"page-comment-4771162\"><span class=\"com-item-text\"><a class=\"avatar-link right\" href=\"https://www.manzoom.ir/comment/comment-user/4771162/\"><img class=\"avatar right rounded\" src=\"https://cdn.manzoom.ir/media/avatar_images/large_1540873.png\" width=\"30\"/></a> <a class=\"user-name red\" href=\"https://www.manzoom.ir/comment/comment-user/4771162/\">رشید نوری</a></span><div class=\"text maznoom-g\">هنرپیشه ای با بازیهای قابل قبول...</div><a class=\"right pus login-need\"></a><div class=\"ps-number right\"><span>0</span> لایک</div><div class=\"right reply-count\"><span>0</span> نظر</div><div class=\"comment-answer login-need right m-t-3 m-r-1\">پاسخ دهید</div><div class=\"comment-remove left login-need\" title=\"گزارش دادن\"></div><div class=\"comment-time left maznoom-e m-l-1\">1399/09/29</div><div class=\"comment-overlay hidden\"><div class=\"overlay-report hidden\">گزارش شما ارسال شد!‌ متشکریم که در حفظ فضای فرهنگی منظوم ما را یاری می‌کنید</div></div><div class=\"reply-box hidden\"><div class=\"table full-width\"><textarea class=\"full-width\"></textarea><button class=\"green white block btn left maznoom-g send-comment m-t-2\" type=\"button\">ارسال</button></div></div></div><div class=\"comment-children\"></div><div class=\"comment-item table full-width maznoom-d\" data-id=\"4767779\" id=\"page-comment-4767779\"><span class=\"com-item-text\"><a class=\"avatar-link right\" href=\"https://www.manzoom.ir/comment/comment-user/4767779/\"><img class=\"avatar right rounded\" src=\"https://cdn.manzoom.ir/media/avatar_images/large_1143674.png\" width=\"30\"/></a> <a class=\"user-name red\" href=\"https://www.manzoom.ir/comment/comment-user/4767779/\">جوجو</a></span><div class=\"text maznoom-g\">تو سنتوری فوق العاده بازی کرد</div><a class=\"right pus login-need\"></a><div class=\"ps-number right\"><span>0</span> لایک</div><div class=\"right reply-count\"><span>0</span> نظر</div><div class=\"comment-answer login-need right m-t-3 m-r-1\">پاسخ دهید</div><div class=\"comment-remove left login-need\" title=\"گزارش دادن\"></div><div class=\"comment-time left maznoom-e m-l-1\">1399/05/16</div><div class=\"comment-overlay hidden\"><div class=\"overlay-report hidden\">گزارش شما ارسال شد!‌ متشکریم که در حفظ فضای فرهنگی منظوم ما را یاری می‌کنید</div></div><div class=\"reply-box hidden\"><div class=\"table full-width\"><textarea class=\"full-width\"></textarea><button class=\"green white block btn left maznoom-g send-comment m-t-2\" type=\"button\">ارسال</button></div></div></div><div class=\"comment-children\"></div><div class=\"comment-item table full-width maznoom-d\" data-id=\"4762856\" id=\"page-comment-4762856\"><span class=\"com-item-text\"><a class=\"avatar-link right\" href=\"https://www.manzoom.ir/comment/comment-user/4762856/\"><img class=\"avatar right rounded\" src=\"https://cdn.manzoom.ir/static/images/profile-icon.png\" width=\"30\"/></a> <a class=\"user-name red\" href=\"https://www.manzoom.ir/comment/comment-user/4762856/\">یکتا</a></span><div class=\"text maznoom-g\">چه جیگریه</div><a class=\"right pus login-need\"></a><div class=\"ps-number right\"><span>0</span> لایک</div><div class=\"right reply-count\"><span>0</span> نظر</div><div class=\"comment-answer login-need right m-t-3 m-r-1\">پاسخ دهید</div><div class=\"comment-remove left login-need\" title=\"گزارش دادن\"></div><div class=\"comment-time left maznoom-e m-l-1\">1399/02/17</div><div class=\"comment-overlay hidden\"><div class=\"overlay-report hidden\">گزارش شما ارسال شد!‌ متشکریم که در حفظ فضای فرهنگی منظوم ما را یاری می‌کنید</div></div><div class=\"reply-box hidden\"><div class=\"table full-width\"><textarea class=\"full-width\"></textarea><button class=\"green white block btn left maznoom-g send-comment m-t-2\" type=\"button\">ارسال</button></div></div></div><div class=\"comment-children\"></div><div class=\"comment-item table full-width maznoom-d\" data-id=\"4761034\" id=\"page-comment-4761034\"><span class=\"com-item-text\"><a class=\"avatar-link right\" href=\"https://www.manzoom.ir/comment/comment-user/4761034/\"><img class=\"avatar right rounded\" src=\"https://cdn.manzoom.ir/static/images/profile-icon.png\" width=\"30\"/></a> <a class=\"user-name red\" href=\"https://www.manzoom.ir/comment/comment-user/4761034/\">مصطفی محمدی</a></span><div class=\"text maznoom-g\">بازیش رو دوست دارم</div><a class=\"right pus login-need\"></a><div class=\"ps-number right\"><span>0</span> لایک</div><div class=\"right reply-count\"><span>0</span> نظر</div><div class=\"comment-answer login-need right m-t-3 m-r-1\">پاسخ دهید</div><div class=\"comment-remove left login-need\" title=\"گزارش دادن\"></div><div class=\"comment-time left maznoom-e m-l-1\">1398/10/13</div><div class=\"comment-overlay hidden\"><div class=\"overlay-report hidden\">گزارش شما ارسال شد!‌ متشکریم که در حفظ فضای فرهنگی منظوم ما را یاری می‌کنید</div></div><div class=\"reply-box hidden\"><div class=\"table full-width\"><textarea class=\"full-width\"></textarea><button class=\"green white block btn left maznoom-g send-comment m-t-2\" type=\"button\">ارسال</button></div></div></div><div class=\"comment-children\"></div><div class=\"comment-item table full-width maznoom-d\" data-id=\"4753996\" id=\"page-comment-4753996\"><span class=\"com-item-text\"><a class=\"avatar-link right\" href=\"https://www.manzoom.ir/comment/comment-user/4753996/\"><img class=\"avatar right rounded\" src=\"https://cdn.manzoom.ir/static/images/profile-icon.png\" width=\"30\"/></a> <a class=\"user-name red\" href=\"https://www.manzoom.ir/comment/comment-user/4753996/\">طنین برزگر</a></span><div class=\"text maznoom-g\">عالی... همین فقط</div><a class=\"right pus login-need\"></a><div class=\"ps-number right\"><span>0</span> لایک</div><div class=\"right reply-count\"><span>0</span> نظر</div><div class=\"comment-answer login-need right m-t-3 m-r-1\">پاسخ دهید</div><div class=\"comment-remove left login-need\" title=\"گزارش دادن\"></div><div class=\"comment-time left maznoom-e m-l-1\">1398/02/11</div><div class=\"comment-overlay hidden\"><div class=\"overlay-report hidden\">گزارش شما ارسال شد!‌ متشکریم که در حفظ فضای فرهنگی منظوم ما را یاری می‌کنید</div></div><div class=\"reply-box hidden\"><div class=\"table full-width\"><textarea class=\"full-width\"></textarea><button class=\"green white block btn left maznoom-g send-comment m-t-2\" type=\"button\">ارسال</button></div></div></div><div class=\"comment-children\"></div><div class=\"comment-item table full-width maznoom-d\" data-id=\"4740940\" id=\"page-comment-4740940\"><span class=\"com-item-text\"><a class=\"avatar-link right\" href=\"https://www.manzoom.ir/comment/comment-user/4740940/\"><img class=\"avatar right rounded\" src=\"https://www.manzoom.ir/media/avatar_images/large_106121.png\" width=\"30\"/></a> <a class=\"user-name red\" href=\"https://www.manzoom.ir/comment/comment-user/4740940/\">علی فیلم بین</a></span><div class=\"text maznoom-g\">توی کمدی هنوز باید کار کنه تا پیشرفت کنه.<br/>اگه دقت کنین توی بارکد بازی رادان اصلا مقابل کیایی به چشم نمی یومد.</div><a class=\"right pus login-need\"></a><div class=\"ps-number right\"><span>1</span> لایک</div><div class=\"right reply-count\"><span>0</span> نظر</div><div class=\"comment-answer login-need right m-t-3 m-r-1\">پاسخ دهید</div><div class=\"comment-remove left login-need\" title=\"گزارش دادن\"></div><div class=\"comment-time left maznoom-e m-l-1\">1397/07/17</div><div class=\"comment-overlay hidden\"><div class=\"overlay-report hidden\">گزارش شما ارسال شد!‌ متشکریم که در حفظ فضای فرهنگی منظوم ما را یاری می‌کنید</div></div><div class=\"reply-box hidden\"><div class=\"table full-width\"><textarea class=\"full-width\"></textarea><button class=\"green white block btn left maznoom-g send-comment m-t-2\" type=\"button\">ارسال</button></div></div></div><div class=\"comment-children\"></div><div class=\"comment-item table full-width maznoom-d\" data-id=\"4738495\" id=\"page-comment-4738495\"><span class=\"com-item-text\"><a class=\"avatar-link right\" href=\"https://www.manzoom.ir/comment/comment-user/4738495/\"><img class=\"avatar right rounded\" src=\"https://cdn.manzoom.ir/static/images/profile-icon.png\" width=\"30\"/></a> <a class=\"user-name red\" href=\"https://www.manzoom.ir/comment/comment-user/4738495/\">خانم کاظمی</a></span><div class=\"text maznoom-g\">بازیشون خوبه</div><a class=\"right pus login-need\"></a><div class=\"ps-number right\"><span>0</span> لایک</div><div class=\"right reply-count\"><span>0</span> نظر</div><div class=\"comment-answer login-need right m-t-3 m-r-1\">پاسخ دهید</div><div class=\"comment-remove left login-need\" title=\"گزارش دادن\"></div><div class=\"comment-time left maznoom-e m-l-1\">1397/06/27</div><div class=\"comment-overlay hidden\"><div class=\"overlay-report hidden\">گزارش شما ارسال شد!‌ متشکریم که در حفظ فضای فرهنگی منظوم ما را یاری می‌کنید</div></div><div class=\"reply-box hidden\"><div class=\"table full-width\"><textarea class=\"full-width\"></textarea><button class=\"green white block btn left maznoom-g send-comment m-t-2\" type=\"button\">ارسال</button></div></div></div><div class=\"comment-children\"></div><div class=\"comment-item table full-width maznoom-d\" data-id=\"4737624\" id=\"page-comment-4737624\"><span class=\"com-item-text\"><a class=\"avatar-link right\" href=\"https://www.manzoom.ir/comment/comment-user/4737624/\"><img class=\"avatar right rounded\" src=\"https://cdn.manzoom.ir/media/avatar_images/large_1059427.png\" width=\"30\"/></a> <a class=\"user-name red\" href=\"https://www.manzoom.ir/comment/comment-user/4737624/\">پرزیوال</a></span><div class=\"text maznoom-g\">احسنت استقلالی هم که هستی<br/><br/>💙💙💙💙💙💙💙💙💙💙💙💙</div><a class=\"right pus login-need\"></a><div class=\"ps-number right\"><span>3</span> لایک</div><div class=\"right reply-count\"><span>1</span> نظر</div><div class=\"comment-answer login-need right m-t-3 m-r-1\">پاسخ دهید</div><div class=\"comment-remove left login-need\" title=\"گزارش دادن\"></div><div class=\"comment-time left maznoom-e m-l-1\">1397/06/22</div><div class=\"comment-overlay hidden\"><div class=\"overlay-report hidden\">گزارش شما ارسال شد!‌ متشکریم که در حفظ فضای فرهنگی منظوم ما را یاری می‌کنید</div></div><div class=\"reply-box hidden\"><div class=\"table full-width\"><textarea class=\"full-width\"></textarea><button class=\"green white block btn left maznoom-g send-comment m-t-2\" type=\"button\">ارسال</button></div></div></div><div class=\"comment-children\"><div class=\"comment-item table full-width maznoom-d\" data-id=\"4737642\" id=\"page-comment-4737642\"><span class=\"com-item-text\"><a class=\"avatar-link right\" href=\"https://www.manzoom.ir/comment/comment-user/4737642/\"><img class=\"avatar right rounded\" src=\"https://www.manzoom.ir/media/avatar_images/large_89783.png\" width=\"30\"/></a> <a class=\"user-name red\" href=\"https://www.manzoom.ir/comment/comment-user/4737642/\">فاطمه نژاده</a></span><div class=\"text maznoom-g\">اصن هر کی درجه یکه استقلالیه💙</div><a class=\"right pus login-need\"></a><div class=\"ps-number right\"><span>3</span> لایک</div><div class=\"comment-answer login-need right m-t-3 m-r-1\">پاسخ دهید</div><div class=\"comment-remove left login-need\" title=\"گزارش دادن\"></div><div class=\"comment-time left maznoom-e m-l-1\">1397/06/22</div><div class=\"comment-overlay hidden\"><div class=\"overlay-report hidden\">گزارش شما ارسال شد!‌ متشکریم که در حفظ فضای فرهنگی منظوم ما را یاری می‌کنید</div></div><div class=\"reply-box hidden\"><div class=\"table full-width\"><textarea class=\"full-width\"></textarea><button class=\"green white block btn left maznoom-g send-comment m-t-2\" type=\"button\">ارسال</button></div></div></div><div class=\"comment-children\"></div></div><div class=\"comment-item table full-width maznoom-d\" data-id=\"4736584\" id=\"page-comment-4736584\"><span class=\"com-item-text\"><a class=\"avatar-link right\" href=\"https://www.manzoom.ir/comment/comment-user/4736584/\"><img class=\"avatar right rounded\" src=\"https://www.manzoom.ir/media/avatar_images/large_1312496.png\" width=\"30\"/></a> <a class=\"user-name red\" href=\"https://www.manzoom.ir/comment/comment-user/4736584/\">راد شهبازی</a></span><div class=\"text maznoom-g\">بازیگری که ابتدا در فیلم های سنتوری ، بی پولی ، کنعان بسیارخوب و کم نقص ظاهر شد ! در فیلم های آتش بس 2 ، زادبوم و عصریخبندان نیز قابل قبول ایفای نقش کرد اما در ادامه به شدت افت کرد و نتوانست مانند سابق کم نقص ظاهر شود (بارکد ، زرد ، چهارراه استانبول...) امیدوارم در فیلم آشفتگی بتواند به روزهای درخشان خود بازگردد و همین طور جیرانی بتوان از او یک بازی کم تپق و متفاوت بگیرد</div><a class=\"right pus login-need\"></a><div class=\"ps-number right\"><span>2</span> لایک</div><div class=\"right reply-count\"><span>0</span> نظر</div><div class=\"comment-answer login-need right m-t-3 m-r-1\">پاسخ دهید</div><div class=\"comment-remove left login-need\" title=\"گزارش دادن\"></div><div class=\"comment-time left maznoom-e m-l-1\">1397/06/18</div><div class=\"comment-overlay hidden\"><div class=\"overlay-report hidden\">گزارش شما ارسال شد!‌ متشکریم که در حفظ فضای فرهنگی منظوم ما را یاری می‌کنید</div></div><div class=\"reply-box hidden\"><div class=\"table full-width\"><textarea class=\"full-width\"></textarea><button class=\"green white block btn left maznoom-g send-comment m-t-2\" type=\"button\">ارسال</button></div></div></div><div class=\"comment-children\"></div><div class=\"comment-item table full-width maznoom-d\" data-id=\"4728494\" id=\"page-comment-4728494\"><span class=\"com-item-text\"><a class=\"avatar-link right\" href=\"https://www.manzoom.ir/comment/comment-user/4728494/\"><img class=\"avatar right rounded\" src=\"https://www.manzoom.ir/media/avatar_images/large_89783.png\" width=\"30\"/></a> <a class=\"user-name red\" href=\"https://www.manzoom.ir/comment/comment-user/4728494/\">فاطی*</a></span><div class=\"text maznoom-g\">بعد از عالیجناب پرستویی<br/>ایشون از نظر تعداد سیمرغ بلورین رکورد دار هستن</div><a class=\"right pus login-need\"></a><div class=\"ps-number right\"><span>1</span> لایک</div><div class=\"right reply-count\"><span>0</span> نظر</div><div class=\"comment-answer login-need right m-t-3 m-r-1\">پاسخ دهید</div><div class=\"comment-remove left login-need\" title=\"گزارش دادن\"></div><div class=\"comment-time left maznoom-e m-l-1\">1397/05/03</div><div class=\"comment-overlay hidden\"><div class=\"overlay-report hidden\">گزارش شما ارسال شد!‌ متشکریم که در حفظ فضای فرهنگی منظوم ما را یاری می‌کنید</div></div><div class=\"reply-box hidden\"><div class=\"table full-width\"><textarea class=\"full-width\"></textarea><button class=\"green white block btn left maznoom-g send-comment m-t-2\" type=\"button\">ارسال</button></div></div></div><div class=\"comment-children\"></div></div>]"
      ]
     },
     "execution_count": 6,
     "metadata": {},
     "output_type": "execute_result"
    }
   ],
   "source": [
    "html = urlopen('https://www.manzoom.ir/name/nm2179350/%D8%A8%D9%87%D8%B1%D8%A7%D9%85-%D8%B1%D8%A7%D8%AF%D8%A7%D9%86')\n",
    "soup = BeautifulSoup(html.read(), 'html.parser')\n",
    "a = soup.find_all('div',{'class':'replies no-margin-force'})\n",
    "a\n"
   ]
  },
  {
   "cell_type": "markdown",
   "id": "e1f3c453",
   "metadata": {},
   "source": [
    "selenium test"
   ]
  },
  {
   "cell_type": "code",
   "execution_count": 3,
   "id": "f464e327",
   "metadata": {},
   "outputs": [
    {
     "name": "stderr",
     "output_type": "stream",
     "text": [
      "<ipython-input-3-0a14343f6747>:3: DeprecationWarning: executable_path has been deprecated, please pass in a Service object\n",
      "  driver = webdriver.Chrome(r'D:\\Amirali\\University\\Internship\\AHD\\week1\\chromedriver.exe')\n"
     ]
    },
    {
     "ename": "AttributeError",
     "evalue": "'WebDriver' object has no attribute 'find_element_by_xpath'",
     "output_type": "error",
     "traceback": [
      "\u001b[1;31m---------------------------------------------------------------------------\u001b[0m",
      "\u001b[1;31mAttributeError\u001b[0m                            Traceback (most recent call last)",
      "\u001b[1;32m<ipython-input-3-0a14343f6747>\u001b[0m in \u001b[0;36m<module>\u001b[1;34m\u001b[0m\n\u001b[0;32m      9\u001b[0m \u001b[0mdriver\u001b[0m\u001b[1;33m.\u001b[0m\u001b[0mget\u001b[0m\u001b[1;33m(\u001b[0m\u001b[1;34m\"https://www.tutorialspoint.com/index.htm\"\u001b[0m\u001b[1;33m)\u001b[0m\u001b[1;33m\u001b[0m\u001b[1;33m\u001b[0m\u001b[0m\n\u001b[0;32m     10\u001b[0m \u001b[1;31m#identify element\u001b[0m\u001b[1;33m\u001b[0m\u001b[1;33m\u001b[0m\u001b[1;33m\u001b[0m\u001b[0m\n\u001b[1;32m---> 11\u001b[1;33m \u001b[0ml\u001b[0m \u001b[1;33m=\u001b[0m\u001b[0mdriver\u001b[0m\u001b[1;33m.\u001b[0m\u001b[0mfind_element_by_xpath\u001b[0m\u001b[1;33m(\u001b[0m\u001b[1;34m\"//button[text()='Check it Now']\"\u001b[0m\u001b[1;33m)\u001b[0m\u001b[1;33m\u001b[0m\u001b[1;33m\u001b[0m\u001b[0m\n\u001b[0m\u001b[0;32m     12\u001b[0m \u001b[1;31m#perform click\u001b[0m\u001b[1;33m\u001b[0m\u001b[1;33m\u001b[0m\u001b[1;33m\u001b[0m\u001b[0m\n\u001b[0;32m     13\u001b[0m \u001b[0ml\u001b[0m\u001b[1;33m.\u001b[0m\u001b[0mclick\u001b[0m\u001b[1;33m(\u001b[0m\u001b[1;33m)\u001b[0m\u001b[1;33m\u001b[0m\u001b[1;33m\u001b[0m\u001b[0m\n",
      "\u001b[1;31mAttributeError\u001b[0m: 'WebDriver' object has no attribute 'find_element_by_xpath'"
     ]
    }
   ],
   "source": [
    "from selenium import webdriver\n",
    "#set chromodriver.exe path\n",
    "driver = webdriver.Chrome(r'D:\\Amirali\\University\\Internship\\AHD\\week1\\chromedriver.exe')\n",
    "#implicit wait\n",
    "driver.implicitly_wait(0.5)\n",
    "#maximize browser\n",
    "driver.maximize_window()\n",
    "#launch URL\n",
    "driver.get(\"https://www.tutorialspoint.com/index.htm\")\n",
    "#identify element\n",
    "l =driver.find_element_by_xpath(\"//button[text()='Check it Now']\")\n",
    "#perform click\n",
    "l.click()\n",
    "print(\"Page title is: \")\n",
    "print(driver.title)\n",
    "#close browser\n",
    "driver.quit()"
   ]
  },
  {
   "cell_type": "code",
   "execution_count": 29,
   "id": "880b33ca",
   "metadata": {},
   "outputs": [
    {
     "name": "stderr",
     "output_type": "stream",
     "text": [
      "[WDM] - Downloading:  99%|████████████████████████████████████████████████████████▍| 6.14M/6.21M [00:10<00:00, 754kB/s]<ipython-input-29-47bbf16f0249>:4: DeprecationWarning: executable_path has been deprecated, please pass in a Service object\n",
      "  driver = webdriver.Chrome(ChromeDriverManager().install(), options=chrome_options)\n"
     ]
    },
    {
     "ename": "AttributeError",
     "evalue": "'WebDriver' object has no attribute 'find_element_by_xpath'",
     "output_type": "error",
     "traceback": [
      "\u001b[1;31m---------------------------------------------------------------------------\u001b[0m",
      "\u001b[1;31mAttributeError\u001b[0m                            Traceback (most recent call last)",
      "\u001b[1;32m<ipython-input-29-47bbf16f0249>\u001b[0m in \u001b[0;36m<module>\u001b[1;34m\u001b[0m\n\u001b[0;32m     10\u001b[0m \u001b[0mdriver\u001b[0m\u001b[1;33m.\u001b[0m\u001b[0mget\u001b[0m\u001b[1;33m(\u001b[0m\u001b[1;34m\"https://www.tutorialspoint.com/index.htm\"\u001b[0m\u001b[1;33m)\u001b[0m\u001b[1;33m\u001b[0m\u001b[1;33m\u001b[0m\u001b[0m\n\u001b[0;32m     11\u001b[0m \u001b[1;31m#identify element\u001b[0m\u001b[1;33m\u001b[0m\u001b[1;33m\u001b[0m\u001b[1;33m\u001b[0m\u001b[0m\n\u001b[1;32m---> 12\u001b[1;33m \u001b[0ml\u001b[0m \u001b[1;33m=\u001b[0m\u001b[0mdriver\u001b[0m\u001b[1;33m.\u001b[0m\u001b[0mfind_element_by_xpath\u001b[0m\u001b[1;33m(\u001b[0m\u001b[1;34m\"//button[text()='Check it Now']\"\u001b[0m\u001b[1;33m)\u001b[0m\u001b[1;33m\u001b[0m\u001b[1;33m\u001b[0m\u001b[0m\n\u001b[0m\u001b[0;32m     13\u001b[0m \u001b[1;31m#perform click\u001b[0m\u001b[1;33m\u001b[0m\u001b[1;33m\u001b[0m\u001b[1;33m\u001b[0m\u001b[0m\n\u001b[0;32m     14\u001b[0m \u001b[0ml\u001b[0m\u001b[1;33m.\u001b[0m\u001b[0mclick\u001b[0m\u001b[1;33m(\u001b[0m\u001b[1;33m)\u001b[0m\u001b[1;33m\u001b[0m\u001b[1;33m\u001b[0m\u001b[0m\n",
      "\u001b[1;31mAttributeError\u001b[0m: 'WebDriver' object has no attribute 'find_element_by_xpath'"
     ]
    },
    {
     "name": "stderr",
     "output_type": "stream",
     "text": [
      "\r",
      "[WDM] - Downloading: 100%|█████████████████████████████████████████████████████████| 6.21M/6.21M [00:30<00:00, 754kB/s]"
     ]
    }
   ],
   "source": [
    "chrome_options = Options()\n",
    "chrome_options.add_argument(\"--headless\")\n",
    "#set chromodriver.exe path\n",
    "driver = webdriver.Chrome(r'D:\\Amirali\\University\\Internship\\AHD\\week1\\chromedriver.exe', options=chrome_options)\n",
    "#implicit wait\n",
    "driver.implicitly_wait(0.5)\n",
    "#maximize browser\n",
    "driver.maximize_window()\n",
    "#launch URL\n",
    "driver.get(\"https://www.tutorialspoint.com/index.htm\")\n",
    "#identify element\n",
    "l =driver.find_element_by_xpath(\"//button[text()='Check it Now']\")\n",
    "#perform click\n",
    "l.click()\n",
    "print(\"Page title is: \")\n",
    "print(driver.title)"
   ]
  },
  {
   "cell_type": "code",
   "execution_count": 16,
   "id": "98831ff9",
   "metadata": {},
   "outputs": [
    {
     "name": "stderr",
     "output_type": "stream",
     "text": [
      "<ipython-input-16-b9c28e862607>:4: DeprecationWarning: executable_path has been deprecated, please pass in a Service object\n",
      "  driver = webdriver.Chrome(r'D:\\Amirali\\University\\Internship\\AHD\\week1\\chromedriver.exe',chrome_options=chrome_options)\n",
      "<ipython-input-16-b9c28e862607>:4: DeprecationWarning: use options instead of chrome_options\n",
      "  driver = webdriver.Chrome(r'D:\\Amirali\\University\\Internship\\AHD\\week1\\chromedriver.exe',chrome_options=chrome_options)\n"
     ]
    },
    {
     "name": "stdout",
     "output_type": "stream",
     "text": [
      "1\n",
      "2\n",
      "3\n",
      "4\n",
      "5\n",
      "6\n",
      "7\n",
      "8\n",
      "9\n",
      "10\n",
      "11\n",
      "12\n",
      "13\n",
      "14\n",
      "15\n",
      "16\n",
      "17\n"
     ]
    }
   ],
   "source": [
    "chrome_options = Options()\n",
    "chrome_options.add_argument(\"--headless\")\n",
    "# driver = webdriver.Chrome(service = Service(ChromeDriverManager().install()), options=chrome_options)\n",
    "driver = webdriver.Chrome(r'D:\\Amirali\\University\\Internship\\AHD\\week1\\chromedriver.exe',chrome_options=chrome_options)\n",
    "# driver = webdriver.Chrome(service = Service(ChromeDriverManager().install()))\n",
    "driver.get('https://www.manzoom.ir/name/nm2179350/%D8%A8%D9%87%D8%B1%D8%A7%D9%85-%D8%B1%D8%A7%D8%AF%D8%A7%D9%86')\n",
    "element = driver.execute_script(\"return document.getElementsByClassName('comments-load-more')[0].href;\")\n",
    "#Type = driver.execute_script(\"return typeof(document.getElementsByClassName('comments-load-more')[0].href)\")\n",
    "#print(Type)\n",
    "# driver.find_element(By.CSS_SELECTOR, '.comments-load-more.maznoom-e').click()\n",
    "#driver.find_element_by_class_name('comments-load-more').click()\n",
    "#driver.execute_script('argument[0].click();', element)\n",
    "i = 1\n",
    "while True:\n",
    "    try:\n",
    "        print(i)\n",
    "        driver.find_element(By.CSS_SELECTOR, '.comments-load-more.maznoom-e').click()\n",
    "#       driver.execute_script('argument[0].click();', element)\n",
    "        i += 1\n",
    "    except:\n",
    "        break"
   ]
  },
  {
   "cell_type": "code",
   "execution_count": 10,
   "id": "1b10ceda",
   "metadata": {},
   "outputs": [
    {
     "data": {
      "text/plain": [
       "'0'"
      ]
     },
     "execution_count": 10,
     "metadata": {},
     "output_type": "execute_result"
    }
   ],
   "source": [
    "int(driver.execute_script(f\"return document.getElementsByClassName('ps-number right')[0].innerText;\").replace(' لایک',''))"
   ]
  },
  {
   "cell_type": "code",
   "execution_count": 24,
   "id": "064dbd0d",
   "metadata": {},
   "outputs": [
    {
     "name": "stderr",
     "output_type": "stream",
     "text": [
      "<ipython-input-24-2dbafc933cf3>:5: DeprecationWarning: executable_path has been deprecated, please pass in a Service object\n",
      "  driver = webdriver.Chrome(r'D:\\Amirali\\University\\Internship\\AHD\\week1\\chromedriver.exe',chrome_options=chrome_options)\n",
      "<ipython-input-24-2dbafc933cf3>:5: DeprecationWarning: use options instead of chrome_options\n",
      "  driver = webdriver.Chrome(r'D:\\Amirali\\University\\Internship\\AHD\\week1\\chromedriver.exe',chrome_options=chrome_options)\n"
     ]
    }
   ],
   "source": [
    "# comment-item table full-width maznoom-d\n",
    "#document.getElementsByClassName('comment-time left maznoom-e m-l-1')[0].innerText\n",
    "chrome_options = Options()\n",
    "chrome_options.add_argument(\"--headless\")\n",
    "driver = webdriver.Chrome(r'D:\\Amirali\\University\\Internship\\AHD\\week1\\chromedriver.exe',chrome_options=chrome_options)\n",
    "\n",
    "def comment_extractor(link, driver):\n",
    "    driver.get(link)\n",
    "    i = 1\n",
    "    while True:\n",
    "        try:\n",
    "            print(i)\n",
    "            driver.find_element(By.CSS_SELECTOR, '.comments-load-more.maznoom-e').click()\n",
    "    #       driver.execute_script('argument[0].click();', element)\n",
    "            i += 1\n",
    "        except:\n",
    "            break\n",
    "\n",
    "    try:\n",
    "        l = driver.execute_script(\"return document.getElementsByClassName('text maznoom-g');\")\n",
    "        comments = [driver.execute_script(f\"return document.getElementsByClassName('text maznoom-g')[{i}].innerText;\") for i in range(len(l))]\n",
    "        user_name = [driver.execute_script(f\"return document.getElementsByClassName('user-name red')[{i}].innerText;\") for i in range(len(l))]\n",
    "        likes = [int(driver.execute_script(f\"return document.getElementsByClassName('ps-number right')[{i}].innerText;\").replace(' لایک','')) for i in range(len(l))]\n",
    "        user_urls = [driver.execute_script(f\"return document.getElementsByClassName('user-name red')[{i}].href;\") for i in range(len(l))]\n",
    "        date_created = [driver.execute_script(f\"return document.getElementsByClassName('comment-time left maznoom-e m-l-1')[{i}].innerText;\") for i in range(len(l))]\n",
    "\n",
    "        comments_dict = {}\n",
    "        comments_dict['user'] = user_name\n",
    "        comments_dict['user_url'] = user_urls\n",
    "        comments_dict['date_created'] = date_created\n",
    "        comments_dict['likes'] = likes\n",
    "        comments_dict['comment text'] = comments\n",
    "    except:\n",
    "        comments_dict = None\n",
    "\n",
    "    return comments_dict    \n"
   ]
  },
  {
   "cell_type": "code",
   "execution_count": 26,
   "id": "bf0b2bd4",
   "metadata": {},
   "outputs": [
    {
     "name": "stdout",
     "output_type": "stream",
     "text": [
      "1\n",
      "2\n",
      "3\n",
      "4\n",
      "5\n",
      "6\n",
      "7\n",
      "8\n"
     ]
    },
    {
     "data": {
      "text/plain": [
       "{'user': ['علی فیلم بین',\n",
       "  'زهرا',\n",
       "  'زهرا',\n",
       "  'کاشف استعداد سحر',\n",
       "  'محمد',\n",
       "  'علی فیلم بین',\n",
       "  'فاطمه نژاده',\n",
       "  'دارا',\n",
       "  'طاها مزینانی',\n",
       "  'فاطمه نژاده',\n",
       "  'یونس',\n",
       "  'عسلی',\n",
       "  'سپنتا ملکی',\n",
       "  'سپنتا ملکی',\n",
       "  'عارفه',\n",
       "  'طاها مزینانی',\n",
       "  'غــــریبه',\n",
       "  'یونس',\n",
       "  'یونس',\n",
       "  'روژان',\n",
       "  'آلما',\n",
       "  'آرتین',\n",
       "  'سیاح',\n",
       "  'اشکان',\n",
       "  'آرتین',\n",
       "  'زندی',\n",
       "  'رضا سعیدی نیا',\n",
       "  'شهریار'],\n",
       " 'user_url': ['https://www.manzoom.ir/comment/comment-user/4771696/',\n",
       "  'https://www.manzoom.ir/comment/comment-user/4771691/',\n",
       "  'https://www.manzoom.ir/comment/comment-user/4770627/',\n",
       "  'https://www.manzoom.ir/comment/comment-user/4769536/',\n",
       "  'https://www.manzoom.ir/comment/comment-user/4754561/',\n",
       "  'https://www.manzoom.ir/comment/comment-user/4754481/',\n",
       "  'https://www.manzoom.ir/comment/comment-user/4754497/',\n",
       "  'https://www.manzoom.ir/comment/comment-user/4749726/',\n",
       "  'https://www.manzoom.ir/comment/comment-user/4732571/',\n",
       "  'https://www.manzoom.ir/comment/comment-user/4721027/',\n",
       "  'https://www.manzoom.ir/comment/comment-user/4711498/',\n",
       "  'https://www.manzoom.ir/comment/comment-user/4711497/',\n",
       "  'https://www.manzoom.ir/comment/comment-user/4711465/',\n",
       "  'https://www.manzoom.ir/comment/comment-user/4711002/',\n",
       "  'https://www.manzoom.ir/comment/comment-user/4703624/',\n",
       "  'https://www.manzoom.ir/comment/comment-user/4703614/',\n",
       "  'https://www.manzoom.ir/comment/comment-user/4703613/',\n",
       "  'https://www.manzoom.ir/comment/comment-user/4703607/',\n",
       "  'https://www.manzoom.ir/comment/comment-user/4697092/',\n",
       "  'https://www.manzoom.ir/comment/comment-user/15433/',\n",
       "  'https://www.manzoom.ir/comment/comment-user/15380/',\n",
       "  'https://www.manzoom.ir/comment/comment-user/13762/',\n",
       "  'https://www.manzoom.ir/comment/comment-user/13482/',\n",
       "  'https://www.manzoom.ir/comment/comment-user/12964/',\n",
       "  'https://www.manzoom.ir/comment/comment-user/7795/',\n",
       "  'https://www.manzoom.ir/comment/comment-user/5577/',\n",
       "  'https://www.manzoom.ir/comment/comment-user/3651/',\n",
       "  'https://www.manzoom.ir/comment/comment-user/2727/'],\n",
       " 'date_created': ['1399/11/15',\n",
       "  '1399/11/15',\n",
       "  '1399/08/28',\n",
       "  '1399/06/26',\n",
       "  '1398/03/01',\n",
       "  '1398/02/30',\n",
       "  '1398/02/30',\n",
       "  '1397/11/15',\n",
       "  '1397/05/29',\n",
       "  '1397/04/01',\n",
       "  '1397/01/02',\n",
       "  '1397/01/02',\n",
       "  '1397/01/01',\n",
       "  '1396/12/28',\n",
       "  '1396/11/15',\n",
       "  '1396/11/15',\n",
       "  '1396/11/15',\n",
       "  '1396/11/15',\n",
       "  '1396/10/24',\n",
       "  '1396/04/26',\n",
       "  '1396/04/26',\n",
       "  '1396/04/06',\n",
       "  '1396/04/03',\n",
       "  '1396/03/28',\n",
       "  '1395/11/15',\n",
       "  '1395/09/03',\n",
       "  '1395/06/14',\n",
       "  '1395/05/27'],\n",
       " 'likes': [0,\n",
       "  1,\n",
       "  3,\n",
       "  2,\n",
       "  0,\n",
       "  0,\n",
       "  0,\n",
       "  3,\n",
       "  1,\n",
       "  2,\n",
       "  1,\n",
       "  2,\n",
       "  0,\n",
       "  1,\n",
       "  0,\n",
       "  0,\n",
       "  1,\n",
       "  0,\n",
       "  3,\n",
       "  1,\n",
       "  0,\n",
       "  0,\n",
       "  0,\n",
       "  0,\n",
       "  0,\n",
       "  0,\n",
       "  0,\n",
       "  0],\n",
       " 'comment text': ['تولدت مبارک استاد :)',\n",
       "  'تولدتون مبارک بازیکر بزرگ و پیشکسوت\\nانشالله که همیشه سالم تو تندرست باشید و 120 سال عمر کنید',\n",
       "  'بههههههههههترین بازیگر انشالله 120 سال عمر می کنید و سینمای ایران را با بازی تون شکوفا کنید',\n",
       "  'سایه شون بالا سر هنر تا ۱۲۰ سال باشه ایشالا\\nواقعا بینظیر',\n",
       "  'تو فیلم برادر جان خوب بازی نکردن',\n",
       "  'ابهت صدا، استواری بیان، بازی شناور در احساس، حس گرفتن در لحظه....\\nدیگه چی بگم؟\\nفوق العاده است استاد.',\n",
       "  'بله،بی نظیرن واقعا',\n",
       "  'تولدتون مبارک باشه استاد و انشالله همیشه بدرخشید\\nبراتون آرزوی سلامتی میکنم\\nکارنامه قوی بازیگری شما تاریخی از سینمای ایرانو به دوش میکشه\\nحیف که تولد 84 سالگی شما و اکران بازی زیباتون در مسخره باز مصادف شد با غم از دست دادن همسر گرامی تون',\n",
       "  'استاد نصیریان عزت سینما که رفت شما باشید سینما رو تنها نذارید ایشالا تا ۱۲۰ سال زنده باشین بازیتونو خیلی دوست دارم',\n",
       "  'سایتون همیشه مستدام ؛ استاد نصیریان',\n",
       "  'هیچ ایرادی هیچ ایرادی نمیشه از ایشون گرفت . بزرگترین بازیگر مسن ایران ایشون هستند به نظر من👌👌👌👌👌',\n",
       "  'عالی♥♥♥♥',\n",
       "  'عالی مثل همیشه اقای نصیریان',\n",
       "  'واقعاعلی نصیریان یک هنرمندواقعی است .',\n",
       "  'تولدت مبارک بزرگ خاندان دیوان یالار',\n",
       "  'تولدتون مبارک',\n",
       "  'بزرگ اقا تولدتون مبارک',\n",
       "  'تولدتون مبارک استاد🎂🎂🎂🎂',\n",
       "  'کلمه ای نیست که بشه قدرت بازی ایشون رو بیان کنه👍👍👍👍👍👍👍👍👍👍👍👍👍👍👍👍👍👍👍👍👍👍👍👍👍👍👍👍👍👍👍👍👍👍👍👍👍👍👍👍👍👍👍👍👍👍👍👍👍👍👍👏👏👏👏👏👏👏👏👏👏👏👏👏👏👏👏👏👏👏👏👏👏👏👏👏👏👏👏👏👏👏👏👏👏👏👏👏👏👏👏👏👏👏👏👏👏👏👏👏👏👏👏👏👏👏👏👏👏👏👏👏👏👏👏👏👏👏👏👏👏👏👏👏👏👏👏👏👏👏👏👏👏👏👏👏👏👏👏👏👏👏👏👏👏👏👏👏👏👏👏👏👏👏👏👏👏👏👏👏👏👏👏👏👏👏👏👏👏👏👏👏👏👏👏👏👏👏👏👏👏👏👏👏👏👏👏👏👏👏👏👏👏👏👏👏👏👏👏👏👏👏👏👏👏👏👏👏👏👏👏👏👏👏👏👏👏👏👏👏👏👏👏👏👏👏👏👏👏👏👏👏👏👏👏👏👏👏👏👏👏👏👏👏👏👏👏👏👏👏👏👏👏👏👏👏👏👏👏👏👏👏👏👏👏👏👏👏👏👏👏👏👏👏👏👏👏👏👏👏👏👏👏👏👏👏👏👏👏👏👏👏👏👏👏👏👏👏👏👏👏👏👏👏👏👏👏👏👏👏👏👏👏👏👏👏👏👏👏👏👏👏👏👏👏👏👏',\n",
       "  'یه بازیگر توانا و با تجربه.عاشق بازیشون هستم.',\n",
       "  'ای بابا\\nتخت چرا باید بزرگ اقا از شهرزاد بره\\nدلم واسه شهرزاد میسوزه',\n",
       "  'استاد استاد استاد استاد استاد استاد استاد استاد استاد',\n",
       "  'یکی از بزرگان سینمای ایران هستند',\n",
       "  'استاد بازیگری هستند',\n",
       "  'بزرگ آقای سینمای ایران\\n',\n",
       "  'خیلی دوسش دارم',\n",
       "  'بسیار توانا و نقش پذیر سلامت باشند ان شاءالله',\n",
       "  'عاشقتم']}"
      ]
     },
     "execution_count": 26,
     "metadata": {},
     "output_type": "execute_result"
    }
   ],
   "source": [
    "comment_extractor(actor_url_list[4],driver)"
   ]
  },
  {
   "cell_type": "code",
   "execution_count": 15,
   "id": "c887311b",
   "metadata": {},
   "outputs": [
    {
     "data": {
      "text/plain": [
       "['https://www.manzoom.ir/comment/comment-user/4771162/',\n",
       " 'https://www.manzoom.ir/comment/comment-user/4767779/',\n",
       " 'https://www.manzoom.ir/comment/comment-user/4762856/',\n",
       " 'https://www.manzoom.ir/comment/comment-user/4761034/',\n",
       " 'https://www.manzoom.ir/comment/comment-user/4753996/',\n",
       " 'https://www.manzoom.ir/comment/comment-user/4740940/',\n",
       " 'https://www.manzoom.ir/comment/comment-user/4738495/',\n",
       " 'https://www.manzoom.ir/comment/comment-user/4737624/',\n",
       " 'https://www.manzoom.ir/comment/comment-user/4737642/',\n",
       " 'https://www.manzoom.ir/comment/comment-user/4736584/',\n",
       " 'https://www.manzoom.ir/comment/comment-user/4728494/',\n",
       " 'https://www.manzoom.ir/comment/comment-user/4722413/',\n",
       " 'https://www.manzoom.ir/comment/comment-user/4720784/',\n",
       " 'https://www.manzoom.ir/comment/comment-user/4719827/',\n",
       " 'https://www.manzoom.ir/comment/comment-user/4719801/',\n",
       " 'https://www.manzoom.ir/comment/comment-user/4715728/',\n",
       " 'https://www.manzoom.ir/comment/comment-user/4715720/',\n",
       " 'https://www.manzoom.ir/comment/comment-user/4715718/',\n",
       " 'https://www.manzoom.ir/comment/comment-user/4714621/',\n",
       " 'https://www.manzoom.ir/comment/comment-user/4713814/',\n",
       " 'https://www.manzoom.ir/comment/comment-user/4713811/',\n",
       " 'https://www.manzoom.ir/comment/comment-user/4704715/',\n",
       " 'https://www.manzoom.ir/comment/comment-user/4704619/',\n",
       " 'https://www.manzoom.ir/comment/comment-user/4704344/',\n",
       " 'https://www.manzoom.ir/comment/comment-user/4697570/',\n",
       " 'https://www.manzoom.ir/comment/comment-user/4695651/',\n",
       " 'https://www.manzoom.ir/comment/comment-user/4695650/',\n",
       " 'https://www.manzoom.ir/comment/comment-user/4115690/',\n",
       " 'https://www.manzoom.ir/comment/comment-user/4104637/',\n",
       " 'https://www.manzoom.ir/comment/comment-user/846811/',\n",
       " 'https://www.manzoom.ir/comment/comment-user/718065/',\n",
       " 'https://www.manzoom.ir/comment/comment-user/327913/',\n",
       " 'https://www.manzoom.ir/comment/comment-user/11179/',\n",
       " 'https://www.manzoom.ir/comment/comment-user/11088/',\n",
       " 'https://www.manzoom.ir/comment/comment-user/4704620/',\n",
       " 'https://www.manzoom.ir/comment/comment-user/10507/',\n",
       " 'https://www.manzoom.ir/comment/comment-user/10488/',\n",
       " 'https://www.manzoom.ir/comment/comment-user/10260/',\n",
       " 'https://www.manzoom.ir/comment/comment-user/10251/',\n",
       " 'https://www.manzoom.ir/comment/comment-user/8143/',\n",
       " 'https://www.manzoom.ir/comment/comment-user/5257/',\n",
       " 'https://www.manzoom.ir/comment/comment-user/4217/',\n",
       " 'https://www.manzoom.ir/comment/comment-user/3943/',\n",
       " 'https://www.manzoom.ir/comment/comment-user/3837/',\n",
       " 'https://www.manzoom.ir/comment/comment-user/2869/',\n",
       " 'https://www.manzoom.ir/comment/comment-user/1682/',\n",
       " 'https://www.manzoom.ir/comment/comment-user/1221/',\n",
       " 'https://www.manzoom.ir/comment/comment-user/1077/']"
      ]
     },
     "execution_count": 15,
     "metadata": {},
     "output_type": "execute_result"
    }
   ],
   "source": [
    "user_urls"
   ]
  },
  {
   "cell_type": "code",
   "execution_count": 12,
   "id": "31718001",
   "metadata": {},
   "outputs": [
    {
     "data": {
      "text/plain": [
       "(48, 48, 48, 48, 48)"
      ]
     },
     "execution_count": 12,
     "metadata": {},
     "output_type": "execute_result"
    }
   ],
   "source": [
    "len(comments), len(user_name), len(likes), len(user_urls), len(date_created)"
   ]
  },
  {
   "cell_type": "code",
   "execution_count": 3,
   "id": "13398947",
   "metadata": {},
   "outputs": [
    {
     "name": "stderr",
     "output_type": "stream",
     "text": [
      "<ipython-input-3-d304dc158373>:1: DeprecationWarning: executable_path has been deprecated, please pass in a Service object\n",
      "  driver = webdriver.Chrome(executable_path = ChromeDriverManager().install())\n"
     ]
    },
    {
     "name": "stdout",
     "output_type": "stream",
     "text": [
      "1\n"
     ]
    },
    {
     "ename": "JavascriptException",
     "evalue": "Message: javascript error: argument is not defined\n  (Session info: chrome=104.0.5112.81)\nStacktrace:\nBacktrace:\n\tOrdinal0 [0x004778B3+2193587]\n\tOrdinal0 [0x00410681+1771137]\n\tOrdinal0 [0x003241A8+803240]\n\tOrdinal0 [0x00326BB4+814004]\n\tOrdinal0 [0x00326A72+813682]\n\tOrdinal0 [0x003273EA+816106]\n\tOrdinal0 [0x0037E519+1172761]\n\tOrdinal0 [0x0036D7AC+1103788]\n\tOrdinal0 [0x0037DAE2+1170146]\n\tOrdinal0 [0x0036D5C6+1103302]\n\tOrdinal0 [0x003477E0+948192]\n\tOrdinal0 [0x003486E6+952038]\n\tGetHandleVerifier [0x00720CB2+2738370]\n\tGetHandleVerifier [0x007121B8+2678216]\n\tGetHandleVerifier [0x005017AA+512954]\n\tGetHandleVerifier [0x00500856+509030]\n\tOrdinal0 [0x0041743B+1799227]\n\tOrdinal0 [0x0041BB68+1817448]\n\tOrdinal0 [0x0041BC55+1817685]\n\tOrdinal0 [0x00425230+1856048]\n\tBaseThreadInitThunk [0x76F2FA29+25]\n\tRtlGetAppContainerNamedObjectPath [0x774C7C7E+286]\n\tRtlGetAppContainerNamedObjectPath [0x774C7C4E+238]\n",
     "output_type": "error",
     "traceback": [
      "\u001b[1;31m---------------------------------------------------------------------------\u001b[0m",
      "\u001b[1;31mJavascriptException\u001b[0m                       Traceback (most recent call last)",
      "\u001b[1;32m<ipython-input-3-d304dc158373>\u001b[0m in \u001b[0;36m<module>\u001b[1;34m\u001b[0m\n\u001b[0;32m      7\u001b[0m     \u001b[0mshow_more_existence\u001b[0m \u001b[1;33m=\u001b[0m \u001b[0mdriver\u001b[0m\u001b[1;33m.\u001b[0m\u001b[0mexecute_script\u001b[0m\u001b[1;33m(\u001b[0m\u001b[1;34m\"return document.querySelectorAll('.comments-load-more').length;\"\u001b[0m\u001b[1;33m)\u001b[0m\u001b[1;33m\u001b[0m\u001b[1;33m\u001b[0m\u001b[0m\n\u001b[0;32m      8\u001b[0m     \u001b[0melement\u001b[0m \u001b[1;33m=\u001b[0m \u001b[0mdriver\u001b[0m\u001b[1;33m.\u001b[0m\u001b[0mexecute_script\u001b[0m\u001b[1;33m(\u001b[0m\u001b[1;34m\"return document.getElementsByClassName('comments-load-more')[0].href;\"\u001b[0m\u001b[1;33m)\u001b[0m\u001b[1;33m\u001b[0m\u001b[1;33m\u001b[0m\u001b[0m\n\u001b[1;32m----> 9\u001b[1;33m     \u001b[0mdriver\u001b[0m\u001b[1;33m.\u001b[0m\u001b[0mexecute_script\u001b[0m\u001b[1;33m(\u001b[0m\u001b[1;34m'argument[0].click();'\u001b[0m\u001b[1;33m,\u001b[0m \u001b[0melement\u001b[0m\u001b[1;33m)\u001b[0m\u001b[1;33m\u001b[0m\u001b[1;33m\u001b[0m\u001b[0m\n\u001b[0m\u001b[0;32m     10\u001b[0m \u001b[1;33m\u001b[0m\u001b[0m\n\u001b[0;32m     11\u001b[0m     \u001b[1;31m# https://www.manzoom.ir/name/nm2179350/%D8%A8%D9%87%D8%B1%D8%A7%D9%85-%D8%B1%D8%A7%D8%AF%D8%A7%D9%86'\u001b[0m\u001b[1;33m\u001b[0m\u001b[1;33m\u001b[0m\u001b[1;33m\u001b[0m\u001b[0m\n",
      "\u001b[1;32m~\\anaconda3\\lib\\site-packages\\selenium\\webdriver\\remote\\webdriver.py\u001b[0m in \u001b[0;36mexecute_script\u001b[1;34m(self, script, *args)\u001b[0m\n\u001b[0;32m    490\u001b[0m         \u001b[0mcommand\u001b[0m \u001b[1;33m=\u001b[0m \u001b[0mCommand\u001b[0m\u001b[1;33m.\u001b[0m\u001b[0mW3C_EXECUTE_SCRIPT\u001b[0m\u001b[1;33m\u001b[0m\u001b[1;33m\u001b[0m\u001b[0m\n\u001b[0;32m    491\u001b[0m \u001b[1;33m\u001b[0m\u001b[0m\n\u001b[1;32m--> 492\u001b[1;33m         return self.execute(command, {\n\u001b[0m\u001b[0;32m    493\u001b[0m             \u001b[1;34m'script'\u001b[0m\u001b[1;33m:\u001b[0m \u001b[0mscript\u001b[0m\u001b[1;33m,\u001b[0m\u001b[1;33m\u001b[0m\u001b[1;33m\u001b[0m\u001b[0m\n\u001b[0;32m    494\u001b[0m             'args': converted_args})['value']\n",
      "\u001b[1;32m~\\anaconda3\\lib\\site-packages\\selenium\\webdriver\\remote\\webdriver.py\u001b[0m in \u001b[0;36mexecute\u001b[1;34m(self, driver_command, params)\u001b[0m\n\u001b[0;32m    432\u001b[0m         \u001b[0mresponse\u001b[0m \u001b[1;33m=\u001b[0m \u001b[0mself\u001b[0m\u001b[1;33m.\u001b[0m\u001b[0mcommand_executor\u001b[0m\u001b[1;33m.\u001b[0m\u001b[0mexecute\u001b[0m\u001b[1;33m(\u001b[0m\u001b[0mdriver_command\u001b[0m\u001b[1;33m,\u001b[0m \u001b[0mparams\u001b[0m\u001b[1;33m)\u001b[0m\u001b[1;33m\u001b[0m\u001b[1;33m\u001b[0m\u001b[0m\n\u001b[0;32m    433\u001b[0m         \u001b[1;32mif\u001b[0m \u001b[0mresponse\u001b[0m\u001b[1;33m:\u001b[0m\u001b[1;33m\u001b[0m\u001b[1;33m\u001b[0m\u001b[0m\n\u001b[1;32m--> 434\u001b[1;33m             \u001b[0mself\u001b[0m\u001b[1;33m.\u001b[0m\u001b[0merror_handler\u001b[0m\u001b[1;33m.\u001b[0m\u001b[0mcheck_response\u001b[0m\u001b[1;33m(\u001b[0m\u001b[0mresponse\u001b[0m\u001b[1;33m)\u001b[0m\u001b[1;33m\u001b[0m\u001b[1;33m\u001b[0m\u001b[0m\n\u001b[0m\u001b[0;32m    435\u001b[0m             response['value'] = self._unwrap_value(\n\u001b[0;32m    436\u001b[0m                 response.get('value', None))\n",
      "\u001b[1;32m~\\anaconda3\\lib\\site-packages\\selenium\\webdriver\\remote\\errorhandler.py\u001b[0m in \u001b[0;36mcheck_response\u001b[1;34m(self, response)\u001b[0m\n\u001b[0;32m    241\u001b[0m                 \u001b[0malert_text\u001b[0m \u001b[1;33m=\u001b[0m \u001b[0mvalue\u001b[0m\u001b[1;33m[\u001b[0m\u001b[1;34m'alert'\u001b[0m\u001b[1;33m]\u001b[0m\u001b[1;33m.\u001b[0m\u001b[0mget\u001b[0m\u001b[1;33m(\u001b[0m\u001b[1;34m'text'\u001b[0m\u001b[1;33m)\u001b[0m\u001b[1;33m\u001b[0m\u001b[1;33m\u001b[0m\u001b[0m\n\u001b[0;32m    242\u001b[0m             \u001b[1;32mraise\u001b[0m \u001b[0mexception_class\u001b[0m\u001b[1;33m(\u001b[0m\u001b[0mmessage\u001b[0m\u001b[1;33m,\u001b[0m \u001b[0mscreen\u001b[0m\u001b[1;33m,\u001b[0m \u001b[0mstacktrace\u001b[0m\u001b[1;33m,\u001b[0m \u001b[0malert_text\u001b[0m\u001b[1;33m)\u001b[0m  \u001b[1;31m# type: ignore[call-arg]  # mypy is not smart enough here\u001b[0m\u001b[1;33m\u001b[0m\u001b[1;33m\u001b[0m\u001b[0m\n\u001b[1;32m--> 243\u001b[1;33m         \u001b[1;32mraise\u001b[0m \u001b[0mexception_class\u001b[0m\u001b[1;33m(\u001b[0m\u001b[0mmessage\u001b[0m\u001b[1;33m,\u001b[0m \u001b[0mscreen\u001b[0m\u001b[1;33m,\u001b[0m \u001b[0mstacktrace\u001b[0m\u001b[1;33m)\u001b[0m\u001b[1;33m\u001b[0m\u001b[1;33m\u001b[0m\u001b[0m\n\u001b[0m",
      "\u001b[1;31mJavascriptException\u001b[0m: Message: javascript error: argument is not defined\n  (Session info: chrome=104.0.5112.81)\nStacktrace:\nBacktrace:\n\tOrdinal0 [0x004778B3+2193587]\n\tOrdinal0 [0x00410681+1771137]\n\tOrdinal0 [0x003241A8+803240]\n\tOrdinal0 [0x00326BB4+814004]\n\tOrdinal0 [0x00326A72+813682]\n\tOrdinal0 [0x003273EA+816106]\n\tOrdinal0 [0x0037E519+1172761]\n\tOrdinal0 [0x0036D7AC+1103788]\n\tOrdinal0 [0x0037DAE2+1170146]\n\tOrdinal0 [0x0036D5C6+1103302]\n\tOrdinal0 [0x003477E0+948192]\n\tOrdinal0 [0x003486E6+952038]\n\tGetHandleVerifier [0x00720CB2+2738370]\n\tGetHandleVerifier [0x007121B8+2678216]\n\tGetHandleVerifier [0x005017AA+512954]\n\tGetHandleVerifier [0x00500856+509030]\n\tOrdinal0 [0x0041743B+1799227]\n\tOrdinal0 [0x0041BB68+1817448]\n\tOrdinal0 [0x0041BC55+1817685]\n\tOrdinal0 [0x00425230+1856048]\n\tBaseThreadInitThunk [0x76F2FA29+25]\n\tRtlGetAppContainerNamedObjectPath [0x774C7C7E+286]\n\tRtlGetAppContainerNamedObjectPath [0x774C7C4E+238]\n"
     ]
    }
   ],
   "source": [
    "driver = webdriver.Chrome(executable_path = ChromeDriverManager().install())\n",
    "driver.get('https://www.manzoom.ir/name/nm2179350/%D8%A8%D9%87%D8%B1%D8%A7%D9%85-%D8%B1%D8%A7%D8%AF%D8%A7%D9%86')\n",
    "i = 1\n",
    "show_more_existence = 1\n",
    "while show_more_existence == 1:\n",
    "    print(i)\n",
    "    show_more_existence = driver.execute_script(\"return document.querySelectorAll('.comments-load-more').length;\")\n",
    "    element = driver.execute_script(\"return document.getElementsByClassName('comments-load-more')[0].href;\")\n",
    "    element\n",
    "    driver.execute_script('argument[0].click();', element)\n",
    "    \n",
    "    # https://www.manzoom.ir/name/nm2179350/%D8%A8%D9%87%D8%B1%D8%A7%D9%85-%D8%B1%D8%A7%D8%AF%D8%A7%D9%86'"
   ]
  },
  {
   "cell_type": "code",
   "execution_count": null,
   "id": "dce09855",
   "metadata": {},
   "outputs": [],
   "source": [
    "def show_more_clicker():\n",
    "    return None"
   ]
  },
  {
   "cell_type": "code",
   "execution_count": 5,
   "id": "80e8b9e8",
   "metadata": {},
   "outputs": [
    {
     "data": {
      "text/plain": [
       "1"
      ]
     },
     "execution_count": 5,
     "metadata": {},
     "output_type": "execute_result"
    }
   ],
   "source": [
    "len(a)"
   ]
  },
  {
   "cell_type": "code",
   "execution_count": 164,
   "id": "db1a432f",
   "metadata": {},
   "outputs": [
    {
     "data": {
      "text/plain": [
       "[['مشخصات بهرام رادانراه های ارتباطی',\n",
       "  'آدرس اینستاگرام (بهرام رادان): bahramradan@اطلاعات زندگی',\n",
       "  'ملیت: ایراندین: اسلاممذهب: تشیعتحصیلات',\n",
       "  'مدرک تحصیلی: مدیریت بازرگانی از دانشگاه آزاد اسلامیمهارت ها',\n",
       "  'مهارت های فرعی: رانندگی']]"
      ]
     },
     "execution_count": 164,
     "metadata": {},
     "output_type": "execute_result"
    }
   ],
   "source": [
    "infs = [i for i in infs]\n",
    "infs"
   ]
  },
  {
   "cell_type": "code",
   "execution_count": 114,
   "id": "f18a8ba6",
   "metadata": {},
   "outputs": [
    {
     "data": {
      "text/plain": [
       "'Ebrahim Hatamikia'"
      ]
     },
     "execution_count": 114,
     "metadata": {},
     "output_type": "execute_result"
    }
   ],
   "source": [
    "current_page_actors.text.replace('\\u200c','').split('\\u200f')[-1][2:]"
   ]
  },
  {
   "cell_type": "code",
   "execution_count": 105,
   "id": "f6226bba",
   "metadata": {},
   "outputs": [
    {
     "data": {
      "text/plain": [
       "'\\u200fهدی زین\\u200cالعابدین\\u200f  H\\u200coda Zain al-Abedin'"
      ]
     },
     "execution_count": 105,
     "metadata": {},
     "output_type": "execute_result"
    }
   ],
   "source": [
    "current_page_actors.text"
   ]
  },
  {
   "cell_type": "code",
   "execution_count": 178,
   "id": "21029842",
   "metadata": {},
   "outputs": [
    {
     "data": {
      "text/plain": [
       "'https://www.manzoom.ir/trivia/nm2179350/%D8%AD%D9%88%D8%A7%D8%B4%DB%8C-%D8%A8%D9%87%D8%B1%D8%A7%D9%85-%D8%B1%D8%A7%D8%AF%D8%A7%D9%86'"
      ]
     },
     "execution_count": 178,
     "metadata": {},
     "output_type": "execute_result"
    }
   ],
   "source": [
    "soup.find('div', {'id':'page-margins'}).find('a',class_ = 'right maznoom-c')['href']"
   ]
  },
  {
   "cell_type": "code",
   "execution_count": null,
   "id": "d3885d9c",
   "metadata": {},
   "outputs": [],
   "source": [
    "def comment_extrator():\n",
    "    return None"
   ]
  },
  {
   "cell_type": "code",
   "execution_count": 26,
   "id": "178b8e30",
   "metadata": {},
   "outputs": [],
   "source": [
    "def info_extractor(list_info):\n",
    "    # راه های ارتباطی\n",
    "    contact = 'راه های ارتباطی' \n",
    "    if contact in list_info:\n",
    "        ind1 = list_info.index(contact)\n",
    "        insta = '@'+ list_info[ind1+2][1:-1]\n",
    "    else:\n",
    "        insta = None\n",
    "        pass\n",
    "    \n",
    "    # اطلاعات زندگی\n",
    "    country = 'ملیت'\n",
    "    if country in list_info:\n",
    "        ind7 = list_info.index(country)\n",
    "        nationality = list_info[ind7+1]\n",
    "    else:\n",
    "        nationality = None\n",
    "        pass\n",
    "    \n",
    "    city = 'شهر محل تولد'\n",
    "    if city in list_info:\n",
    "        ind5 = list_info.index(city)\n",
    "        city1 = list_info[ind5+1]\n",
    "    else:\n",
    "        city1 = None\n",
    "        pass\n",
    "    \n",
    "    sex = 'جنسیت'\n",
    "    if sex in list_info:\n",
    "        ind2 = list_info.index(sex)\n",
    "        gender = list_info[ind2+1]\n",
    "    else:\n",
    "        gender = None\n",
    "        pass\n",
    "    \n",
    "    religion = 'دین'\n",
    "    if religion in list_info:\n",
    "        ind3 = list_info.index(religion)\n",
    "        relig = list_info[ind3+1]\n",
    "    else:\n",
    "        relig = None\n",
    "        pass\n",
    "    \n",
    "    religion_branch = 'مذهب'\n",
    "    if religion_branch in list_info:\n",
    "        ind4 = list_info.index(religion_branch)\n",
    "        relig_b = list_info[ind4+1]\n",
    "    else:\n",
    "        relig_b = None\n",
    "        pass\n",
    "\n",
    "    # تحصیلات\n",
    "    edu_deg = 'مدرک تحصیلی'\n",
    "    if edu_deg in list_info:\n",
    "        ind6 = list_info.index(edu_deg)\n",
    "        degree = list_info[ind6+1]\n",
    "    else:\n",
    "        degree = None\n",
    "        pass\n",
    "    \n",
    "    edu_m = 'رشته تحصیلی'\n",
    "    if edu_m in list_info:\n",
    "        ind7 = list_info.index(edu_m)\n",
    "        major = list_info[ind7+1]\n",
    "    else:\n",
    "        major = None\n",
    "        pass\n",
    "    # مهارت ها\n",
    "    skill = 'مهارت های فرعی'\n",
    "    if skill in list_info:\n",
    "        ind8 = list_info.index(skill)\n",
    "        skill1 = list_info[ind8+1]\n",
    "    else:\n",
    "        skill1 = None\n",
    "        pass\n",
    "    \n",
    "    # dict:\n",
    "    info_dict = {}\n",
    "    info_dict['social_media'] = {'instagram':insta}\n",
    "    info_dict['life_info'] = {'sex':gender,\n",
    "                              'nationality':nationality,\n",
    "                              'city of birth': city1,\n",
    "                              'religion':relig,\n",
    "                              'religion_branch':relig_b}\n",
    "    info_dict['Education'] = {'degree':degree,\n",
    "                              'major':major}\n",
    "    info_dict['skills'] = skill1\n",
    "    \n",
    "    return info_dict"
   ]
  },
  {
   "cell_type": "code",
   "execution_count": null,
   "id": "744b63dd",
   "metadata": {},
   "outputs": [],
   "source": [
    "def actor_info(link):\n",
    "    # get actor page URL\n",
    "    actor_page = urlopen(link)\n",
    "    soup = BeautifulSoup(html.read(), 'html.parser')\n",
    "    \n",
    "    # name\n",
    "    name = soup.find('h1', class_ = 'red info-top-header maznoom-a maznoom-b')\n",
    "    name = name.text.replace('\\u200c','').split('\\u200f')[-1][2:]\n",
    "    \n",
    "    # Birth date\n",
    "    date_of_birth = soup.find('div', class_ = 'underline-links maznoom-d').text.split(' ')[1]\n",
    "    \n",
    "    # biography_full_text\n",
    "    full_bio = soup.find('div', class_ = 'text padded').text.replace('\\u200c',' ')\n",
    "    \n",
    "    # awards\n",
    "    awards = soup.find('div', class_ = 'awards-item maznoom-b').text\n",
    "    \n",
    "    # experience\n",
    "    dom = etree.HTML(str(soup))  # to make beautifulsoup package compatible with xpath\n",
    "    ## films\n",
    "    films = dom.xpath('//*[@id=\"person-roles-part\"]/div/div//div//a') \n",
    "    films = [film[i].text.replace('\\u200c', ' ') for i in range(len(film))]\n",
    "    ## years\n",
    "    years = dom.xpath('//*[@id=\"person-roles-part\"]/div/div/div/div/div[1]')\n",
    "    years = [years[i].text for i in range(len(years))]\n",
    "    ## scores\n",
    "    scores = dom.xpath('//*[@id=\"person-roles-part\"]/div[3]/div/div/div/div[4]')\n",
    "    scores = [scores[i].text[1:5] for i in range(scores)]\n",
    "    ### experience_dict\n",
    "    exp_dict = {}\n",
    "    exp_dict['films'] = films\n",
    "    exp_dict['years'] = years\n",
    "    exp_dict['scores']= scores\n",
    "    \n",
    "    \n",
    "    # personal_info\n",
    "    p_info = soup.find('div',{'class':'main-box padded m-t-1 dual-row underline-links'})\n",
    "    p_info = p_info.find_all('div', {'class': ['bullet-item has-border','title maznoom-c']})\n",
    "    p_info = oneDArray([t.text.replace('\\u200c',' ').split(':') for t in p_info])\n",
    "    p_info_dict = info_extractor(p_info)\n",
    "    \n",
    "    # news\n",
    "    news_link = soup.find('div', {'id':'page-margins'})..find('a',class_ = 'right maznoom-c')['href']\n",
    "    news = urlopen(news_link)\n",
    "    news_soup = BeautifulSoup(news.read(), 'html.parser')\n",
    "    news = news_soup.find('div', class_ = 'row').find_all('div',class_ = 'bullet-item has-border')\n",
    "    news = [t.text.replace('\\u200c','').replace('\\u200e','') for t in news]\n",
    "    \n",
    "    # comments\n",
    "    #comments_link = soup.find()\n",
    "    \n",
    "    actor_dict = {}\n",
    "    actor_dict['name'] = name\n",
    "    actor_dict['date_of_birth'] = date_of_birth\n",
    "    actor_dict['full_bio'] = full_bio\n",
    "    actor_dict['awards'] = awards\n",
    "    actor_dict['experience'] = exp_dict\n",
    "    actor_dict['personal_info'] = p_info_dict\n",
    "    actor_dict['news'] = news\n",
    "    actor_dict['comments'] = None\n",
    "    \n",
    "    return actor_dict"
   ]
  },
  {
   "cell_type": "code",
   "execution_count": 14,
   "id": "61c5968d",
   "metadata": {},
   "outputs": [
    {
     "name": "stdout",
     "output_type": "stream",
     "text": [
      "{'loginID': 'xyz', 'country': 'USA', 'firstname': 'justin', 'lastname': 'lambert'}\n"
     ]
    }
   ],
   "source": [
    "D1 = {\"loginID\":\"xyz\",\"country\":\"USA\"}\n",
    "D2 = {\"firstname\":\"justin\",\"lastname\":\"lambert\"}\n",
    "D1.app(D2)\n",
    "print(D1)"
   ]
  },
  {
   "cell_type": "code",
   "execution_count": null,
   "id": "81361323",
   "metadata": {},
   "outputs": [],
   "source": []
  }
 ],
 "metadata": {
  "kernelspec": {
   "display_name": "Python 3",
   "language": "python",
   "name": "python3"
  },
  "language_info": {
   "codemirror_mode": {
    "name": "ipython",
    "version": 3
   },
   "file_extension": ".py",
   "mimetype": "text/x-python",
   "name": "python",
   "nbconvert_exporter": "python",
   "pygments_lexer": "ipython3",
   "version": "3.8.8"
  }
 },
 "nbformat": 4,
 "nbformat_minor": 5
}
