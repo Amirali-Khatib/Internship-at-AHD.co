{
 "cells": [
  {
   "cell_type": "code",
   "execution_count": 1,
   "metadata": {
    "executionInfo": {
     "elapsed": 436,
     "status": "ok",
     "timestamp": 1663441549965,
     "user": {
      "displayName": "Amirali Khatib",
      "userId": "09816541096773308243"
     },
     "user_tz": -270
    },
    "id": "r7qf1gmryjqH"
   },
   "outputs": [],
   "source": [
    "import numpy as np\n",
    "import pandas as pd\n",
    "from sklearn.datasets import load_digits"
   ]
  },
  {
   "cell_type": "code",
   "execution_count": 2,
   "metadata": {
    "executionInfo": {
     "elapsed": 7,
     "status": "ok",
     "timestamp": 1663441549965,
     "user": {
      "displayName": "Amirali Khatib",
      "userId": "09816541096773308243"
     },
     "user_tz": -270
    },
    "id": "oBrLDyt1D_6s"
   },
   "outputs": [],
   "source": [
    "mnist = load_digits()"
   ]
  },
  {
   "cell_type": "code",
   "execution_count": 3,
   "metadata": {
    "colab": {
     "base_uri": "https://localhost:8080/"
    },
    "executionInfo": {
     "elapsed": 7,
     "status": "ok",
     "timestamp": 1663441549965,
     "user": {
      "displayName": "Amirali Khatib",
      "userId": "09816541096773308243"
     },
     "user_tz": -270
    },
    "id": "V6KIXnvdEiTk",
    "outputId": "2a9d38fd-9a9f-438f-f177-239b39b86f3d"
   },
   "outputs": [
    {
     "data": {
      "text/plain": [
       "((1797, 64), (1797,))"
      ]
     },
     "execution_count": 3,
     "metadata": {},
     "output_type": "execute_result"
    }
   ],
   "source": [
    "(mnist.data).shape, (mnist.target).shape"
   ]
  },
  {
   "cell_type": "code",
   "execution_count": 4,
   "metadata": {
    "colab": {
     "base_uri": "https://localhost:8080/"
    },
    "executionInfo": {
     "elapsed": 7,
     "status": "ok",
     "timestamp": 1663441549966,
     "user": {
      "displayName": "Amirali Khatib",
      "userId": "09816541096773308243"
     },
     "user_tz": -270
    },
    "id": "z-jRuVJCFOb3",
    "outputId": "a5aab6b1-e378-4604-e8e0-b2a791bf3a9a"
   },
   "outputs": [
    {
     "data": {
      "text/plain": [
       "1797"
      ]
     },
     "execution_count": 4,
     "metadata": {},
     "output_type": "execute_result"
    }
   ],
   "source": [
    "len(mnist.data)"
   ]
  },
  {
   "cell_type": "code",
   "execution_count": 5,
   "metadata": {
    "colab": {
     "base_uri": "https://localhost:8080/"
    },
    "executionInfo": {
     "elapsed": 6,
     "status": "ok",
     "timestamp": 1663441549966,
     "user": {
      "displayName": "Amirali Khatib",
      "userId": "09816541096773308243"
     },
     "user_tz": -270
    },
    "id": "lHI-H156FUgf",
    "outputId": "53812019-4aa7-4bdd-d77c-54c0080109cc"
   },
   "outputs": [
    {
     "data": {
      "text/plain": [
       "1797"
      ]
     },
     "execution_count": 5,
     "metadata": {},
     "output_type": "execute_result"
    }
   ],
   "source": [
    "len(mnist.target)"
   ]
  },
  {
   "cell_type": "code",
   "execution_count": 6,
   "metadata": {
    "executionInfo": {
     "elapsed": 5,
     "status": "ok",
     "timestamp": 1663441549966,
     "user": {
      "displayName": "Amirali Khatib",
      "userId": "09816541096773308243"
     },
     "user_tz": -270
    },
    "id": "OAAJBjwVEkDc"
   },
   "outputs": [],
   "source": [
    "def data_splitter(dataX, dataY):\n",
    "  shuffled_indices = np.random.permutation(len(dataX))\n",
    "  test_set_size = int(len(dataX) * 0.2)\n",
    "  test_indices = shuffled_indices[:test_set_size]\n",
    "  train_indices = shuffled_indices[test_set_size:]\n",
    "  data_trainX, data_trainY = dataX[train_indices][:], dataY[train_indices]\n",
    "  data_testX, data_testY =  dataX[test_indices][:], dataY[test_indices]\n",
    "  return data_trainX, data_trainY, data_testX, data_testY"
   ]
  },
  {
   "cell_type": "code",
   "execution_count": 7,
   "metadata": {
    "executionInfo": {
     "elapsed": 5,
     "status": "ok",
     "timestamp": 1663441549966,
     "user": {
      "displayName": "Amirali Khatib",
      "userId": "09816541096773308243"
     },
     "user_tz": -270
    },
    "id": "HSM1aQKxH91n"
   },
   "outputs": [],
   "source": [
    "trnX, trnY, tstX, tstY = data_splitter(mnist.data, mnist.target)"
   ]
  },
  {
   "cell_type": "code",
   "execution_count": 8,
   "metadata": {
    "colab": {
     "base_uri": "https://localhost:8080/"
    },
    "executionInfo": {
     "elapsed": 5,
     "status": "ok",
     "timestamp": 1663441549967,
     "user": {
      "displayName": "Amirali Khatib",
      "userId": "09816541096773308243"
     },
     "user_tz": -270
    },
    "id": "yGh8NoiUGNOH",
    "outputId": "a4833251-d525-4834-c72b-b12b725df719"
   },
   "outputs": [
    {
     "data": {
      "text/plain": [
       "(1438, 1438, 359, 359)"
      ]
     },
     "execution_count": 8,
     "metadata": {},
     "output_type": "execute_result"
    }
   ],
   "source": [
    "len(trnX), len(trnY), len(tstX), len(tstY)"
   ]
  },
  {
   "cell_type": "code",
   "execution_count": 27,
   "metadata": {
    "executionInfo": {
     "elapsed": 3,
     "status": "ok",
     "timestamp": 1663441978895,
     "user": {
      "displayName": "Amirali Khatib",
      "userId": "09816541096773308243"
     },
     "user_tz": -270
    },
    "id": "VIK6pQAItaem"
   },
   "outputs": [],
   "source": [
    "def weight_initializer(trainX, trainY):\n",
    "  weights = []\n",
    "  indecies = []\n",
    "  for l in range(10):\n",
    "    indecies.append(int(np.argwhere(trainY == l)[0]))\n",
    "    weights.append(list(trnX[int(np.argwhere(trainY == l)[0])][:]))\n",
    "  trainX, trainY = np.delete(trainX, indecies, 0), np.delete(trainY, indecies)\n",
    "  return np.array(weights), trainX, trainY  \n",
    "\n",
    "\n",
    "def winner_distance(smpl, wght):\n",
    "  comp = []\n",
    "  for i in range(len(wght)):\n",
    "    distance = np.sqrt(sum(np.power(smpl - wght[i], 2)))\n",
    "    comp.append(distance)\n",
    "  comp = np.array(comp)\n",
    "  winner_index = int(np.argwhere(comp == np.min(comp))) \n",
    "  return winner_index\n",
    "\n",
    "\n",
    "def update_weight(winner_label,actual_label,sample,weight,learning_rate):\n",
    "  if winner_label == actual_label:\n",
    "    weight[winner_label] = weight[winner_label] + learning_rate * (sample - weight[winner_label])\n",
    "  else:\n",
    "    weight[winner_label] = weight[winner_label] - learning_rate * (sample - weight[winner_label])\n",
    "  return weight "
   ]
  },
  {
   "cell_type": "code",
   "execution_count": 28,
   "metadata": {
    "executionInfo": {
     "elapsed": 1,
     "status": "ok",
     "timestamp": 1663441980587,
     "user": {
      "displayName": "Amirali Khatib",
      "userId": "09816541096773308243"
     },
     "user_tz": -270
    },
    "id": "D-J8VYpsJKy2"
   },
   "outputs": [],
   "source": [
    "def lvq_trainer(trainX, trainY, weights, learning_rate):\n",
    "  # Train LVQ\n",
    "  for i in range(len(trainX)):\n",
    "    ## def distance - winner\n",
    "    winner = winner_distance(trainX[i], weights)\n",
    "    ## def update\n",
    "    weights = update_weight(winner, trainY[i], trainX[i], weights, learning_rate)\n",
    "  return weights"
   ]
  },
  {
   "cell_type": "code",
   "execution_count": 29,
   "metadata": {
    "executionInfo": {
     "elapsed": 431,
     "status": "ok",
     "timestamp": 1663441982332,
     "user": {
      "displayName": "Amirali Khatib",
      "userId": "09816541096773308243"
     },
     "user_tz": -270
    },
    "id": "OBtoxvFas5x2"
   },
   "outputs": [],
   "source": [
    "def fit_lvq(trainX, trainY, learning_rate, epoche):\n",
    "  # learning rate validation\n",
    "  if (learning_rate >= 1) & (learning_rate < 0):\n",
    "    print('Invalid learning rate')\n",
    "    return None\n",
    "  else:\n",
    "    print('Learning rete is checked')  \n",
    "  # initialize weights\n",
    "  weights, trainX, trainY = weight_initializer(trainX, trainY)\n",
    "  print('Weights are initialized')\n",
    "  for i in range(epoche):\n",
    "    weights = lvq_trainer(trainX, trainY, weights, learning_rate)\n",
    "    print(f'epoche {i+1} ===> accuracy : {predictor(trainX, trainY, weights)}%')\n",
    "  return weights"
   ]
  },
  {
   "cell_type": "code",
   "execution_count": 30,
   "metadata": {
    "executionInfo": {
     "elapsed": 446,
     "status": "ok",
     "timestamp": 1663441995139,
     "user": {
      "displayName": "Amirali Khatib",
      "userId": "09816541096773308243"
     },
     "user_tz": -270
    },
    "id": "YNEM79L30KjE"
   },
   "outputs": [],
   "source": [
    "def predictor(testX, testY, wght):\n",
    "  predicted = []\n",
    "  for j in range(len(testX)):\n",
    "    comp = []\n",
    "    for i in range(len(wght)):\n",
    "      distance = np.sqrt(sum(np.power(testX[j] - wght[i], 2)))\n",
    "      comp.append(distance)\n",
    "    \n",
    "    comp = np.array(comp)\n",
    "    winner_index = int(np.argwhere(comp == np.min(comp)))\n",
    "    predicted.append(winner_index)\n",
    "  accuracy = 100 * np.sum(np.array(predicted) == testY) / len(np.array(predicted) == testY)  \n",
    "  \n",
    "  return accuracy "
   ]
  },
  {
   "cell_type": "code",
   "execution_count": 31,
   "metadata": {
    "colab": {
     "base_uri": "https://localhost:8080/"
    },
    "executionInfo": {
     "elapsed": 5384,
     "status": "ok",
     "timestamp": 1663442008980,
     "user": {
      "displayName": "Amirali Khatib",
      "userId": "09816541096773308243"
     },
     "user_tz": -270
    },
    "id": "8a6-x0J7aps1",
    "outputId": "48966fc1-b2d9-4c7c-ad83-fc40a6b42f4c"
   },
   "outputs": [
    {
     "name": "stdout",
     "output_type": "stream",
     "text": [
      "Learning rete is checked\n",
      "Weights are initialized\n",
      "epoche 1 ===> accuracy : 77.45098039215686%\n",
      "epoche 2 ===> accuracy : 80.812324929972%\n",
      "epoche 3 ===> accuracy : 82.70308123249299%\n",
      "epoche 4 ===> accuracy : 83.89355742296918%\n",
      "epoche 5 ===> accuracy : 83.82352941176471%\n",
      "epoche 6 ===> accuracy : 83.75350140056022%\n",
      "epoche 7 ===> accuracy : 83.89355742296918%\n",
      "epoche 8 ===> accuracy : 83.82352941176471%\n",
      "epoche 9 ===> accuracy : 83.89355742296918%\n",
      "epoche 10 ===> accuracy : 83.82352941176471%\n"
     ]
    },
    {
     "data": {
      "text/plain": [
       "83.008356545961"
      ]
     },
     "execution_count": 31,
     "metadata": {},
     "output_type": "execute_result"
    }
   ],
   "source": [
    "weights = fit_lvq(trnX, trnY, 0.007, 10)\n",
    "predictor(tstX, tstY, weights)"
   ]
  },
  {
   "cell_type": "code",
   "execution_count": null,
   "metadata": {
    "colab": {
     "base_uri": "https://localhost:8080/"
    },
    "executionInfo": {
     "elapsed": 3,
     "status": "ok",
     "timestamp": 1663421412186,
     "user": {
      "displayName": "Amirali Khatib",
      "userId": "09816541096773308243"
     },
     "user_tz": -270
    },
    "id": "HcxjM_HuJLDB",
    "outputId": "3f016081-5903-423d-f036-91691aaf3adb"
   },
   "outputs": [
    {
     "data": {
      "text/plain": [
       "array([[ 2,  6, 12, 30],\n",
       "       [ 7,  3,  4,  9]])"
      ]
     },
     "execution_count": 22,
     "metadata": {},
     "output_type": "execute_result"
    }
   ],
   "source": [
    "# w_array = np.array([[ 0.,  0.,  3., 13.,  9.,  1.,  0.,  0.,  0.,  0., 13., 14., 15.,\n",
    "#                       13.,  0.,  0.,  0.,  2., 14.,  1.,  2., 13.,  4.,  0.,  0.,  4.,\n",
    "#                       8.,  0.,  0.,  5.,  8.,  0.,  0.,  4.,  8.,  0.,  0.,  4.,  8.,\n",
    "#                       0.,  0.,  4., 10.,  0.,  0.,  5.,  8.,  0.,  0.,  0., 14., 11.,\n",
    "#                       10., 14.,  5.,  0.,  0.,  0.,  4., 12., 13.,  9.,  0.,  0.],\n",
    "#                     [ 0.,  0.,  0., 12., 10.,  0.,  0.,  0.,  0.,  0.,  0., 14., 16.,\n",
    "#                       2.,  0.,  0.,  0.,  0.,  0., 13., 16.,  0.,  0.,  0.,  0.,  0.,\n",
    "#                       0., 11., 16.,  3.,  0.,  0.,  0.,  0.,  0., 10., 16.,  3.,  0.,\n",
    "#                       0.,  0.,  0.,  0., 11., 16.,  2.,  0.,  0.,  0.,  0.,  0., 14.,\n",
    "#                       16.,  2.,  0.,  0.,  0.,  0.,  0., 11., 14.,  0.,  0.,  0.],\n",
    "#                     [ 0.,  1., 15., 16., 10.,  0.,  0.,  0.,  0.,  7., 15., 10., 16.,\n",
    "#                       0.,  0.,  0.,  0.,  4., 12.,  1., 16.,  4.,  0.,  0.,  0.,  0.,\n",
    "#                       2.,  3., 16.,  1.,  0.,  0.,  0.,  0.,  0.,  4., 15.,  0.,  0.,\n",
    "#                       0.,  0.,  0.,  0., 11., 12.,  0.,  0.,  0.,  0.,  0., 11., 16.,\n",
    "#                       14., 14., 15.,  3.,  0.,  1., 15., 16., 16., 16., 16.,  5.],\n",
    "#                     [ 0.,  1.,  9., 15., 16.,  6.,  0.,  0.,  0., 13., 15., 10., 16.,\n",
    "#                       11.,  0.,  0.,  0.,  5.,  3.,  4., 16.,  7.,  0.,  0.,  0.,  0.,\n",
    "#                       0.,  8., 16.,  7.,  0.,  0.,  0.,  0.,  0.,  1., 13., 15.,  5.,\n",
    "#                       0.,  0.,  0.,  0.,  0.,  2., 13., 11.,  0.,  0.,  0., 12.,  5.,\n",
    "#                       3., 13., 14.,  0.,  0.,  0., 10., 16., 16., 14.,  5.,  0.],\n",
    "#                     [ 0.,  0.,  0., 12., 12.,  0.,  0.,  0.,  0.,  0.,  5., 16.,  4.,\n",
    "#                       0.,  0.,  0.,  0.,  1., 14., 11.,  0.,  0.,  0.,  0.,  0.,  6.,\n",
    "#                       16.,  3.,  2.,  0.,  0.,  0.,  0., 13., 12.,  8., 12.,  0.,  0.,\n",
    "#                       0.,  0., 15., 16., 15., 16., 13.,  4.,  0.,  0.,  4.,  9., 14.,\n",
    "#                       16.,  7.,  0.,  0.,  0.,  0.,  0., 11., 13.,  0.,  0.,  0.],\n",
    "#                     [ 0.,  2., 12., 13., 16., 16.,  4.,  0.,  0., 11., 16., 13.,  7.,\n",
    "#                       4.,  1.,  0.,  0., 13., 14.,  0.,  0.,  0.,  0.,  0.,  0.,  1.,\n",
    "#                       15., 12.,  0.,  0.,  0.,  0.,  0.,  0.,  6., 16.,  3.,  0.,  0.,\n",
    "#                       0.,  0.,  0.,  0., 13.,  7.,  0.,  0.,  0.,  0.,  3.,  5., 16.,\n",
    "#                       7.,  0.,  0.,  0.,  0.,  3., 13., 15.,  0.,  0.,  0.,  0.],\n",
    "#                     [ 0.,  0.,  0., 11., 13.,  5.,  0.,  0.,  0.,  0.,  3., 16., 13.,\n",
    "#                       3.,  0.,  0.,  0.,  0., 10., 16.,  2.,  0.,  0.,  0.,  0.,  4.,\n",
    "#                       16., 16., 13.,  7.,  0.,  0.,  0.,  4., 16., 11.,  8., 16.,  2.,\n",
    "#                       0.,  0.,  0., 15.,  8.,  0., 15.,  6.,  0.,  0.,  0.,  9., 14.,\n",
    "#                       4., 15.,  4.,  0.,  0.,  0.,  1., 10., 16., 11.,  1.,  0.],\n",
    "#                     [ 0.,  0.,  9., 16., 16., 16.,  5.,  0.,  0.,  1., 14., 10.,  8.,\n",
    "#                       16.,  8.,  0.,  0.,  0.,  0.,  0.,  7., 16.,  3.,  0.,  0.,  3.,\n",
    "#                       8., 11., 15., 16., 11.,  0.,  0.,  8., 16., 16., 15., 11.,  3.,\n",
    "#                       0.,  0.,  0.,  2., 16.,  7.,  0.,  0.,  0.,  0.,  0.,  8., 16.,\n",
    "#                       1.,  0.,  0.,  0.,  0.,  0., 13., 10.,  0.,  0.,  0.,  0.],\n",
    "#                     [ 0.,  0.,  6., 14., 16.,  6.,  0.,  0.,  0.,  6., 16., 16.,  8.,\n",
    "#                       15.,  0.,  0.,  0.,  7., 14., 14., 12., 14.,  0.,  0.,  0.,  0.,\n",
    "#                       13., 10., 16.,  6.,  0.,  0.,  0.,  0.,  4., 16., 10.,  0.,  0.,\n",
    "#                       0.,  0.,  0., 11., 13., 16.,  2.,  0.,  0.,  0.,  0., 15.,  5.,\n",
    "#                       15.,  4.,  0.,  0.,  0.,  0.,  8., 16., 15.,  1.,  0.,  0.],\n",
    "#                     [ 0.,  0., 12., 16., 15.,  6.,  0.,  0.,  0.,  0., 15., 12.,  7.,\n",
    "#                       15.,  1.,  0.,  0.,  1., 15., 15.,  7., 16.,  4.,  0.,  0.,  1.,\n",
    "#                       12., 16., 16., 14.,  1.,  0.,  0.,  0.,  0.,  4., 10., 13.,  0.,\n",
    "#                       0.,  0.,  0.,  0.,  0.,  1., 15.,  3.,  0.,  0.,  0.,  3.,  0.,\n",
    "#                       2., 16.,  6.,  0.,  0.,  0., 13., 16., 16., 15.,  1.,  0.]])\n",
    "# s_array = trnX[0]\n",
    "# print(s_array)\n",
    "# print(trnY[0])"
   ]
  }
 ],
 "metadata": {
  "colab": {
   "authorship_tag": "ABX9TyMjHroCKg3xufm0P3Y5T458",
   "collapsed_sections": [],
   "provenance": []
  },
  "kernelspec": {
   "display_name": "Python 3",
   "language": "python",
   "name": "python3"
  },
  "language_info": {
   "codemirror_mode": {
    "name": "ipython",
    "version": 3
   },
   "file_extension": ".py",
   "mimetype": "text/x-python",
   "name": "python",
   "nbconvert_exporter": "python",
   "pygments_lexer": "ipython3",
   "version": "3.8.8"
  }
 },
 "nbformat": 4,
 "nbformat_minor": 1
}
